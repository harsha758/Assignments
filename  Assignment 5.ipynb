{
 "cells": [
  {
   "cell_type": "code",
   "execution_count": null,
   "id": "526d435c",
   "metadata": {},
   "outputs": [],
   "source": [
    "# What does an empty dictionary's code look like?\n",
    "\n",
    "my_dict = {}"
   ]
  },
  {
   "cell_type": "code",
   "execution_count": null,
   "id": "41b686d4",
   "metadata": {},
   "outputs": [],
   "source": [
    "# What is the value of a dictionary value with the key 'foo' and the value 42?\n",
    "\n",
    "my_dict={}\n",
    "my_dict['foo']=42\n",
    "my_dict= {'foo': 42}"
   ]
  },
  {
   "cell_type": "code",
   "execution_count": null,
   "id": "3a0b5c05",
   "metadata": {},
   "outputs": [],
   "source": [
    "# What is the most significant distinction between a dictionary and a list?\n",
    "\n",
    "Dictionary is an unordered collection of key-value pairs. Dictionaries are used to handle large amount of data\n",
    "\n",
    "Lists are like arrays which can store different data types and can be accessible through indexing"
   ]
  },
  {
   "cell_type": "code",
   "execution_count": null,
   "id": "a3595d90",
   "metadata": {},
   "outputs": [],
   "source": [
    "# What happens if you try to access spam['foo'] if spam is {'bar': 100}?\n",
    "\n",
    "It will throw keyError as 'foo' key is not present in dictionary"
   ]
  },
  {
   "cell_type": "code",
   "execution_count": null,
   "id": "a4b63e72",
   "metadata": {},
   "outputs": [],
   "source": [
    "# If a dictionary is stored in spam, what is the difference between the expressions 'cat' in spam and 'cat' in spam.keys()?\n",
    "\n",
    "'cat' in spam and  'cat' in spam.keys() both will check whether 'cat' is there a key in dictinary"
   ]
  },
  {
   "cell_type": "code",
   "execution_count": null,
   "id": "1efeafde",
   "metadata": {},
   "outputs": [],
   "source": [
    "#If a dictionary is stored in spam, what is the difference between the expressions 'cat' in spam and 'cat' in spam.values()?\n",
    "\n",
    "'cat' in spam will check whether 'cat' is there as a key in dict\n",
    "\n",
    "'cat' in spam.values() will check whether 'cat' is there as a value in dict"
   ]
  },
  {
   "cell_type": "code",
   "execution_count": null,
   "id": "9edfe241",
   "metadata": {},
   "outputs": [],
   "source": [
    "\"\"\"What is a shortcut for the following code?\n",
    "if 'color' not in spam:\n",
    "spam['color'] = 'black'\"\"\"\n",
    "\n",
    "spam={}\n",
    "spam.setdefault('color','black')"
   ]
  },
  {
   "cell_type": "code",
   "execution_count": null,
   "id": "29619f25",
   "metadata": {},
   "outputs": [],
   "source": [
    "# How do you \"pretty print\" dictionary values using which module and function?\n",
    "\n",
    "import pprint\n",
    "pprint.pprint(spam) # spam is a dictinary"
   ]
  }
 ],
 "metadata": {
  "kernelspec": {
   "display_name": "Python 3",
   "language": "python",
   "name": "python3"
  },
  "language_info": {
   "codemirror_mode": {
    "name": "ipython",
    "version": 3
   },
   "file_extension": ".py",
   "mimetype": "text/x-python",
   "name": "python",
   "nbconvert_exporter": "python",
   "pygments_lexer": "ipython3",
   "version": "3.8.8"
  }
 },
 "nbformat": 4,
 "nbformat_minor": 5
}
