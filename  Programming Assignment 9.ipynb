{
 "cells": [
  {
   "cell_type": "code",
   "execution_count": null,
   "id": "ba0695ab",
   "metadata": {},
   "outputs": [],
   "source": [
    "1.\tWrite a Python program to check if the given number is a Disarium Number?\n",
    "\n",
    "n=int(input(\"Enter a number\")) # Disarium number\n",
    "length = len(str(n))\n",
    "value = n\n",
    "sum = 0\n",
    "while(n>0):\n",
    "    if length == 0:\n",
    "        break\n",
    "    rem = n%10\n",
    "    sum = sum + (pow(rem,length))\n",
    "    n = n//10\n",
    "    length = length-1\n",
    "if value == sum:\n",
    "    print(value,\"is a Disarium number\")\n",
    "else:\n",
    "    print(value,\"is not a disarium number\")"
   ]
  },
  {
   "cell_type": "code",
   "execution_count": null,
   "id": "221b9de7",
   "metadata": {},
   "outputs": [],
   "source": [
    "2.\tWrite a Python program to print all disarium numbers between 1 to 100?\n",
    "\n",
    "for i in range(0,101):\n",
    "    length = len(str(i))\n",
    "    value = i\n",
    "    sum = 0\n",
    "    while(i>0):\n",
    "        if length == 0:\n",
    "            break\n",
    "        rem = i%10\n",
    "        sum = sum + (pow(rem,length))\n",
    "        i = i//10\n",
    "        length = length-1\n",
    "    if value == sum:\n",
    "        print(value,\"is a Disarium number\")\n",
    "    else:\n",
    "        print(value,\"is not a disarium number\")"
   ]
  },
  {
   "cell_type": "code",
   "execution_count": null,
   "id": "5a0fcddc",
   "metadata": {},
   "outputs": [],
   "source": [
    "3.\tWrite a Python program to check if the given number is Happy Number?\n",
    "\n",
    "def happy(n):  # function to calculate sum of squares of each digit for a given number\n",
    "    sum = 0\n",
    "    while(n>0):\n",
    "        rem =  n%10\n",
    "        sum = sum +(rem*rem)\n",
    "        n = n//10\n",
    "    return sum\n",
    "num = int(input(\"Enter a number\"))\n",
    "val = num\n",
    "sum = 0\n",
    "length = 0\n",
    "while(num>0):\n",
    "    if num == 1 or length == 1 :\n",
    "        break\n",
    "    else:\n",
    "        num = sum + happy(num)\n",
    "        length = len(str(num))\n",
    "if num == 1:\n",
    "    print(\"The given number {} is happy number\".format(val))\n",
    "else:\n",
    "    print(\"The given number {} is not a happy number\".format(val))"
   ]
  },
  {
   "cell_type": "code",
   "execution_count": null,
   "id": "c3865423",
   "metadata": {},
   "outputs": [],
   "source": [
    "4.\tWrite a Python program to print all happy numbers between 1 and 100?\n",
    "\n",
    "def happy(n):  # function to calculate sum of squares of each digit for a given number\n",
    "    sum = 0\n",
    "    while(n>0):\n",
    "        rem =  n%10\n",
    "        sum = sum +(rem*rem)\n",
    "        n = n//10\n",
    "    return sum\n",
    "for i in range(1,101):\n",
    "    val = i\n",
    "    sum = 0\n",
    "    length = 0\n",
    "    while(i>0):\n",
    "        if i == 1 or length == 1 :\n",
    "            break\n",
    "        else:\n",
    "            i = sum + happy(i)\n",
    "            length = len(str(i))\n",
    "    if i == 1:\n",
    "        print(\"The given number {} is happy number\".format(val))\n",
    "    else:\n",
    "        print(\"The given number {} is not a happy number\".format(val))"
   ]
  },
  {
   "cell_type": "code",
   "execution_count": null,
   "id": "4d4f5e02",
   "metadata": {},
   "outputs": [],
   "source": [
    "5.\tWrite a Python program to determine whether the given number is a Harshad Number?\n",
    "\n",
    "number = int(input(\"please enter a number\"))\n",
    "v = number\n",
    "sum = 0\n",
    "while(number>0):\n",
    "    rem = number%10\n",
    "    sum = sum +rem\n",
    "    number = number//10\n",
    "if v%sum == 0:\n",
    "    print(\"The given number {} is a Harshad number\".format(v))\n",
    "else:\n",
    "    print(\"The given number {} not a Harshad number\".format(v))"
   ]
  },
  {
   "cell_type": "code",
   "execution_count": null,
   "id": "680eb82d",
   "metadata": {},
   "outputs": [],
   "source": [
    "6.\tWrite a Python program to print all pronic numbers between 1 and 100?\n",
    "\n",
    "def pronic(n):\n",
    "    i=0\n",
    "    while(i<n):\n",
    "        if n == i*(i+1):\n",
    "            return True\n",
    "        i = i +1\n",
    "    else:\n",
    "        return False\n",
    "for j in range(1,100):\n",
    "    if pronic(j):\n",
    "        print(j)  "
   ]
  }
 ],
 "metadata": {
  "kernelspec": {
   "display_name": "Python 3",
   "language": "python",
   "name": "python3"
  },
  "language_info": {
   "codemirror_mode": {
    "name": "ipython",
    "version": 3
   },
   "file_extension": ".py",
   "mimetype": "text/x-python",
   "name": "python",
   "nbconvert_exporter": "python",
   "pygments_lexer": "ipython3",
   "version": "3.8.8"
  }
 },
 "nbformat": 4,
 "nbformat_minor": 5
}
