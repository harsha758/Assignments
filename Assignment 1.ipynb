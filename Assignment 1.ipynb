{
 "cells": [
  {
   "cell_type": "code",
   "execution_count": null,
   "id": "b40a5b7c",
   "metadata": {},
   "outputs": [],
   "source": [
    "1. In the below elements which of them are values or an expression? eg:- values can be\n",
    "integer or string and expressions will be mathematical operators.\n",
    "*\n",
    "'hello'\n",
    "-87.8\n",
    "-\n",
    "/\n",
    "+\n",
    "6\n",
    "\n",
    "Ans:\n",
    "\n",
    "    * = Expression\n",
    "    'hello'=value\n",
    "    -87.8=value\n",
    "    -,/,+= Expressions\n",
    "    6=value\n",
    "    "
   ]
  },
  {
   "cell_type": "code",
   "execution_count": null,
   "id": "c9b0cf20",
   "metadata": {},
   "outputs": [],
   "source": [
    "2. What is the difference between string and variable?\n",
    "\n",
    "Ans: String is a value which represents text\n",
    "\n",
    "     Variable is a name that can refer to any value"
   ]
  },
  {
   "cell_type": "code",
   "execution_count": null,
   "id": "2db1b545",
   "metadata": {},
   "outputs": [],
   "source": [
    "3. Describe three different data types.\n",
    "\n",
    "Ans: integer ex:28,35,66\n",
    "     string  ex='harsha'\n",
    "     complex ex= 6+5j\n",
    "     bool ex= True or False"
   ]
  },
  {
   "cell_type": "code",
   "execution_count": null,
   "id": "ac8060a8",
   "metadata": {},
   "outputs": [],
   "source": [
    "4. What is an expression made up of? What do all expressions do?\n",
    "\n",
    "Ans: Expression made up of mathematical operators which can do operations on atleast 2 values\n",
    "    \n",
    "    ex: 2+7"
   ]
  },
  {
   "cell_type": "code",
   "execution_count": null,
   "id": "5d6794a0",
   "metadata": {},
   "outputs": [],
   "source": [
    "5. This assignment statements, like spam = 10. What is the difference between an expression and a statement?\n",
    "\n",
    "Ans: Expressions will do mathematical operations and assignment statement contains value and variable that can refer to a value "
   ]
  },
  {
   "cell_type": "code",
   "execution_count": null,
   "id": "ee17bc7d",
   "metadata": {},
   "outputs": [],
   "source": [
    "6. After running the following code, what does the variable bacon contain?\n",
    "bacon = 22\n",
    "bacon + 1\n",
    "\n",
    "Ans: 22"
   ]
  },
  {
   "cell_type": "code",
   "execution_count": null,
   "id": "97343638",
   "metadata": {},
   "outputs": [],
   "source": [
    "7. What should the values of the following two terms be?\n",
    "'spam' + 'spamspam'\n",
    "'spam' * 3\n",
    "\n",
    "Ans: Both terms will be same value spamspamspam\n"
   ]
  },
  {
   "cell_type": "code",
   "execution_count": null,
   "id": "d22072ed",
   "metadata": {},
   "outputs": [],
   "source": [
    "8. Why is eggs a valid variable name while 100 is invalid?\n",
    "\n",
    "Ans:variable name can be given any name or alphabets  but cannot give numbers or special characters except _"
   ]
  },
  {
   "cell_type": "code",
   "execution_count": null,
   "id": "a7e15365",
   "metadata": {},
   "outputs": [],
   "source": [
    "9. What three functions can be used to get the integer, floating-point number, or string version of a value?\n",
    "\n",
    "Ans:we can use int(),float(),str() to get the integer, floating-point number, or string version of a value by typecasting but \n",
    "    string value cannot typecast to integer or floating number"
   ]
  },
  {
   "cell_type": "code",
   "execution_count": null,
   "id": "51026b1a",
   "metadata": {},
   "outputs": [],
   "source": [
    "10. Why does this expression cause an error? How can you fix it?\n",
    "'I have eaten ' + 99 + ' burritos.'\n",
    " Ans: strings cannot concatenate with integers we can fix it by putting 99 in single quotes."
   ]
  }
 ],
 "metadata": {
  "kernelspec": {
   "display_name": "Python 3",
   "language": "python",
   "name": "python3"
  },
  "language_info": {
   "codemirror_mode": {
    "name": "ipython",
    "version": 3
   },
   "file_extension": ".py",
   "mimetype": "text/x-python",
   "name": "python",
   "nbconvert_exporter": "python",
   "pygments_lexer": "ipython3",
   "version": "3.8.8"
  }
 },
 "nbformat": 4,
 "nbformat_minor": 5
}
