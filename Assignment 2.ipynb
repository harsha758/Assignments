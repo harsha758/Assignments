{
 "cells": [
  {
   "cell_type": "code",
   "execution_count": null,
   "id": "8c86f69b",
   "metadata": {},
   "outputs": [],
   "source": [
    "1.What are the two values of the Boolean data type? How do you write them?\n",
    "\n",
    "Ans: The 2 values of boolean data type are 0 and 1. 0 is represented as False and 1 is represented as True"
   ]
  },
  {
   "cell_type": "code",
   "execution_count": null,
   "id": "9e6211fc",
   "metadata": {},
   "outputs": [],
   "source": [
    "2. What are the three different types of Boolean operators?\n",
    "\n",
    "Ans: And Or and Not are the three different types of boolean operators."
   ]
  },
  {
   "cell_type": "code",
   "execution_count": null,
   "id": "8f1242d2",
   "metadata": {},
   "outputs": [],
   "source": [
    "3. Make a list of each Boolean operator's truth tables \n",
    "(i.e. every possible combination of Boolean values for the operator and what it evaluate ).\n",
    "\n",
    "     And Operator:\n",
    "        \n",
    "Ans: False and False--> False          \n",
    "     False and True---> False\n",
    "    True and False----> False\n",
    "    True and True----> True\n",
    "    \n",
    "    Or Operator:\n",
    "    False or False---> False\n",
    "    False or True----> True\n",
    "    True or False----> True\n",
    "    True or True-----> True\n",
    "    \n",
    "    Not operator:(Example)\n",
    "    \n",
    "    not(False and False)-->True\n",
    "    not(True or False)---->False"
   ]
  },
  {
   "cell_type": "code",
   "execution_count": null,
   "id": "47c12b0f",
   "metadata": {},
   "outputs": [],
   "source": [
    " 4. What are the values of the following expressions?\n",
    "    \n",
    "    \n",
    "(5 > 4) and (3 == 5)  Ans--> False\n",
    " not (5 > 4)  Ans--->False\n",
    "(5 > 4) or (3 == 5)  Ans---True\n",
    "not ((5 > 4) or (3 == 5))  Ans--->False\n",
    "(True and True) and (True == False) Ans---->False\n",
    "(not False) or (not True)  Ans---- True\n"
   ]
  },
  {
   "cell_type": "code",
   "execution_count": null,
   "id": "00eb9087",
   "metadata": {},
   "outputs": [],
   "source": [
    "5. What are the six comparison operators?\n",
    "\n",
    "Ans: less than(<), greater than(>), less than or equal to(<=), greater than or equal to(>=), equal to(==) and not equal to(!=)"
   ]
  },
  {
   "cell_type": "code",
   "execution_count": null,
   "id": "bf61c1d8",
   "metadata": {},
   "outputs": [],
   "source": [
    "6. How do you tell the difference between the equal to and assignment operators?Describe a condition and when you would use one.\n",
    "\n",
    "Ans: equal to operator is used when we compare the 2 values whether they are equal or not\n",
    "     ex: 3==5, 2==2\n",
    "    Assignment operator is used to store a value in a variable "
   ]
  },
  {
   "cell_type": "code",
   "execution_count": null,
   "id": "ffbf4096",
   "metadata": {},
   "outputs": [],
   "source": [
    "7. Identify the three blocks in this code:\n",
    "spam = 0\n",
    "if spam == 10:\n",
    "print('eggs')\n",
    "if spam > 5:\n",
    "print('bacon')\n",
    "else:\n",
    "print('ham')\n",
    "print('spam')\n",
    "print('spam')\n",
    "\n",
    "Ans:\n",
    "\n",
    "    1st block:\n",
    "     if spam == 10:\n",
    "print('eggs')\n",
    "\n",
    "  2nd block:\n",
    "      if spam > 5:\n",
    "print('bacon')\n",
    "\n",
    " 3rd block:\n",
    "      else:\n",
    "print('ham')\n",
    "print('spam')\n",
    "print('spam')  "
   ]
  },
  {
   "cell_type": "code",
   "execution_count": null,
   "id": "f935031d",
   "metadata": {},
   "outputs": [],
   "source": [
    "8. Write code that prints Hello if 1 is stored in spam, \n",
    "prints Howdy if 2 is stored in spam, and prints Greetings! if anything else is stored in spam.\n",
    "\n",
    "Ans:\n",
    "    spam=int(input(\"please enter a value\"))\n",
    "if spam==1:\n",
    "    print(\"Hello\")\n",
    "if spam==2:\n",
    "    print(\"Howdy\")\n",
    "else:\n",
    "    print(\"Greetings!\")"
   ]
  },
  {
   "cell_type": "code",
   "execution_count": null,
   "id": "57cfa3ed",
   "metadata": {},
   "outputs": [],
   "source": [
    "9.If your programme is stuck in an endless loop, what keys you’ll press?\n",
    "\n",
    "Ans:\n",
    "    i=1\n",
    "    while i>0:\n",
    "        print('harsha')\n",
    "        break\n",
    "        \n",
    "    The above example is endless loop we will use break statement to end this loop\n",
    "        "
   ]
  },
  {
   "cell_type": "code",
   "execution_count": null,
   "id": "1e6ede1e",
   "metadata": {},
   "outputs": [],
   "source": [
    "10. How can you tell the difference between break and continue?\n",
    "\n",
    "Ans:\n",
    "    break statement is used to break the loop or used to stop endless loop\n",
    "    continue statement is used to not perform any action on that particular iterable value\n",
    "    var = 10                    #Example\n",
    "while var > 0:              \n",
    "   var = var -1\n",
    "   if var == 5:\n",
    "        continue\n",
    "   print(var)\n",
    "    "
   ]
  },
  {
   "cell_type": "code",
   "execution_count": null,
   "id": "b0c99255",
   "metadata": {},
   "outputs": [],
   "source": [
    "11. In a for loop, what is the difference between range(10), range(0, 10), and range(0, 10, 1)?\n",
    "\n",
    "Ans: for the above 3 ranges for loop will take values from o to 9\n",
    "    "
   ]
  },
  {
   "cell_type": "code",
   "execution_count": null,
   "id": "2f06901d",
   "metadata": {},
   "outputs": [],
   "source": [
    "12. Write a short program that prints the numbers 1 to 10 using a for loop. \n",
    "Then write an equivalent program that prints the numbers 1 to 10 using a while loop.\n",
    "      # for loop\n",
    "Ans:  for i in range(1,11):\n",
    "        print(i)\n",
    "        # while loop\n",
    "        i=0\n",
    "while i>=0:\n",
    "    i=i+1\n",
    "    if i==11:\n",
    "        break\n",
    "    print(i)\n",
    "    "
   ]
  },
  {
   "cell_type": "code",
   "execution_count": null,
   "id": "03150020",
   "metadata": {},
   "outputs": [],
   "source": [
    "13. If you had a function named bacon() inside a module named spam, how would you call it after importing spam?\n",
    "\n",
    "Ans:\n",
    "    import spam\n",
    "     spam.bacon()\n",
    "    "
   ]
  },
  {
   "cell_type": "code",
   "execution_count": null,
   "id": "b350253a",
   "metadata": {},
   "outputs": [],
   "source": []
  }
 ],
 "metadata": {
  "kernelspec": {
   "display_name": "Python 3",
   "language": "python",
   "name": "python3"
  },
  "language_info": {
   "codemirror_mode": {
    "name": "ipython",
    "version": 3
   },
   "file_extension": ".py",
   "mimetype": "text/x-python",
   "name": "python",
   "nbconvert_exporter": "python",
   "pygments_lexer": "ipython3",
   "version": "3.8.8"
  }
 },
 "nbformat": 4,
 "nbformat_minor": 5
}
