{
 "cells": [
  {
   "cell_type": "code",
   "execution_count": null,
   "id": "53f1f129",
   "metadata": {},
   "outputs": [],
   "source": [
    "1. Why are functions advantageous to have in your programs?\n",
    "\n",
    "Ans: By using functions we can use same code logic anywhere in the program based on the requirement."
   ]
  },
  {
   "cell_type": "code",
   "execution_count": null,
   "id": "57fae881",
   "metadata": {},
   "outputs": [],
   "source": [
    "2. When does the code in a function run: when it's specified or when it's called?\n",
    "\n",
    "Ans: Code in a function run when the function is called in main program."
   ]
  },
  {
   "cell_type": "code",
   "execution_count": null,
   "id": "3f2897e4",
   "metadata": {},
   "outputs": [],
   "source": [
    "3. What statement creates a function?\n",
    "\n",
    "Ans: def statement creates a function"
   ]
  },
  {
   "cell_type": "code",
   "execution_count": null,
   "id": "1bb9ec4e",
   "metadata": {},
   "outputs": [],
   "source": [
    "4. What is the difference between a function and a function call?\n",
    "\n",
    "Ans: A function is a block of code that executes and return a value.\n",
    "     A function call is a code that pass control to function to execute"
   ]
  },
  {
   "cell_type": "code",
   "execution_count": null,
   "id": "8f5e40de",
   "metadata": {},
   "outputs": [],
   "source": [
    "5. How many global scopes are there in a Python program? How many local scopes?\n",
    "\n",
    "Ans: A variable  which is created in main body of python code is called a global variable and belongs to  global scope\n",
    "     A variable which is created inside the function belongs to local scope.\n",
    "    \n",
    "    ex1: x = 300 # global variable\n",
    "    def myfunc():\n",
    "        print(x)\n",
    "    myfunc()\n",
    "    print(x)\n",
    "    \n",
    " ex2:  def myfunc():\n",
    "  x = 300 #Local variable\n",
    "  print(x)\n",
    "\n",
    "myfunc()"
   ]
  },
  {
   "cell_type": "code",
   "execution_count": null,
   "id": "d04181ed",
   "metadata": {},
   "outputs": [],
   "source": [
    "6. What happens to variables in a local scope when the function call returns?\n",
    "\n",
    "Ans: varaible in local scope will be destroyed when function call returns"
   ]
  },
  {
   "cell_type": "code",
   "execution_count": null,
   "id": "b7237df3",
   "metadata": {},
   "outputs": [],
   "source": [
    "7. What is the concept of a return value? Is it possible to have a return value in an expression?\n",
    "\n",
    "Ans: whenever we write return in functions it will return the datatype value so that it will be used to perform any\n",
    "    operations on this function output. No, return will be used only in functions."
   ]
  },
  {
   "cell_type": "code",
   "execution_count": null,
   "id": "0a85e49f",
   "metadata": {},
   "outputs": [],
   "source": [
    "8. If a function does not have a return statement, what is the return value of a call to that function?\n",
    "\n",
    "Ans: if we are not using return the function will retuen Nonetype value as we are using print() which is not useful to make \n",
    "     any operations on function output."
   ]
  },
  {
   "cell_type": "code",
   "execution_count": null,
   "id": "d1e19a41",
   "metadata": {},
   "outputs": [],
   "source": [
    "9. How do you make a function variable refer to the global variable?\n",
    "\n",
    "Ans: we have to use global keyword to make function variable to refer as gloabal varaible."
   ]
  },
  {
   "cell_type": "code",
   "execution_count": null,
   "id": "3e04538f",
   "metadata": {},
   "outputs": [],
   "source": [
    "10. What is the data type of None?\n",
    "\n",
    "Ans: NoneType is the data type of None."
   ]
  },
  {
   "cell_type": "code",
   "execution_count": null,
   "id": "b0586d11",
   "metadata": {},
   "outputs": [],
   "source": [
    "11. What does the sentence import areallyourpetsnamederic do?\n",
    "\n",
    "Ans: It will import code or functions present in areallyourpetsnamederic module."
   ]
  },
  {
   "cell_type": "code",
   "execution_count": null,
   "id": "8a16e126",
   "metadata": {},
   "outputs": [],
   "source": [
    "12. If you had a bacon() feature in a spam module, what would you call it after importing spam?\n",
    "\n",
    "Ans: we can call it as spam.bacon()"
   ]
  },
  {
   "cell_type": "code",
   "execution_count": null,
   "id": "afd07aa4",
   "metadata": {},
   "outputs": [],
   "source": [
    "13. What can you do to save a programme from crashing if it encounters an error?\n",
    "\n",
    "Ans: Use try and exception block to save a program from crashing from error"
   ]
  },
  {
   "cell_type": "code",
   "execution_count": null,
   "id": "67752323",
   "metadata": {},
   "outputs": [],
   "source": [
    "14. What is the purpose of the try clause? What is the purpose of the except clause?\n",
    "\n",
    "Ans: try: the code with the exception to catch. If an exception is raised, it jumps straight into the except block.\n",
    "\n",
    "     except: this code is only executed if an exception occured in the try block. \n",
    "             The except block is required with a try block\n",
    "    "
   ]
  },
  {
   "cell_type": "code",
   "execution_count": null,
   "id": "dbc0b653",
   "metadata": {},
   "outputs": [],
   "source": []
  }
 ],
 "metadata": {
  "kernelspec": {
   "display_name": "Python 3",
   "language": "python",
   "name": "python3"
  },
  "language_info": {
   "codemirror_mode": {
    "name": "ipython",
    "version": 3
   },
   "file_extension": ".py",
   "mimetype": "text/x-python",
   "name": "python",
   "nbconvert_exporter": "python",
   "pygments_lexer": "ipython3",
   "version": "3.8.8"
  }
 },
 "nbformat": 4,
 "nbformat_minor": 5
}
