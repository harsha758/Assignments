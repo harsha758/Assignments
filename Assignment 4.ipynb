{
 "cells": [
  {
   "cell_type": "code",
   "execution_count": null,
   "id": "b9143862",
   "metadata": {},
   "outputs": [],
   "source": [
    "1. What exactly is []?\n",
    "\n",
    "Ans: [] refers to a list\n",
    "    \n",
    "     l=[] # it will create a empty list"
   ]
  },
  {
   "cell_type": "code",
   "execution_count": null,
   "id": "616f6a03",
   "metadata": {},
   "outputs": [],
   "source": [
    "2. In a list of values stored in a variable called spam, \n",
    "   how would you assign the value 'hello' as the third value? (Assume [2, 4, 6, 8, 10] are in spam.)\n",
    "    \n",
    "Ans: spam = [2,4,6,8,10]\n",
    "    spam[2] = 'hello'\n",
    "     spam= [2, 4, 'hello', 8, 10] # list after assigning new value"
   ]
  },
  {
   "cell_type": "markdown",
   "id": "1293ad75",
   "metadata": {},
   "source": [
    "#### Let's pretend the spam includes the list ['a', 'b', 'c', 'd'] for the next three queries."
   ]
  },
  {
   "cell_type": "code",
   "execution_count": null,
   "id": "419e8e84",
   "metadata": {},
   "outputs": [],
   "source": [
    "3. What is the value of spam[int(int('3' * 2) / 11)]?\n",
    "\n",
    "Ans: The value is d"
   ]
  },
  {
   "cell_type": "code",
   "execution_count": null,
   "id": "b1558efb",
   "metadata": {},
   "outputs": [],
   "source": [
    "4. What is the value of spam[-1]?\n",
    "\n",
    "Ans: The value is d"
   ]
  },
  {
   "cell_type": "code",
   "execution_count": null,
   "id": "63169b77",
   "metadata": {},
   "outputs": [],
   "source": [
    "5. What is the value of spam[:2]?\n",
    "\n",
    "Ans: The value are ['a', 'b']"
   ]
  },
  {
   "cell_type": "markdown",
   "id": "59378789",
   "metadata": {},
   "source": [
    "#### Let's pretend bacon has the list [3.14, 'cat,' 11, 'cat,' True] for the next three questions."
   ]
  },
  {
   "cell_type": "code",
   "execution_count": null,
   "id": "d6afaeff",
   "metadata": {},
   "outputs": [],
   "source": [
    "6. What is the value of bacon.index('cat')?\n",
    "\n",
    "Ans: value is 1 # return first index of value"
   ]
  },
  {
   "cell_type": "code",
   "execution_count": null,
   "id": "d7ff386e",
   "metadata": {},
   "outputs": [],
   "source": [
    "7. How does bacon.append(99) change the look of the list value in bacon?\n",
    "\n",
    "Ans: bacon = [3.14, 'cat', 11, 'cat', True, 99]"
   ]
  },
  {
   "cell_type": "code",
   "execution_count": null,
   "id": "2503ba97",
   "metadata": {},
   "outputs": [],
   "source": [
    "8. How does bacon.remove('cat') change the look of the list in bacon?\n",
    "\n",
    "Ans: bacon = [3.14, 11, 'cat', True, 99] # removes first occurence of values"
   ]
  },
  {
   "cell_type": "code",
   "execution_count": null,
   "id": "fc02db11",
   "metadata": {},
   "outputs": [],
   "source": [
    "9. What are the list concatenation and list replication operators?\n",
    "\n",
    "Ans: + is used to concatenate lists and * is used for list replication\n",
    "    \n",
    "    Example:\n",
    "        l1=[1,2,3,4,5]\n",
    "        l2=[6,7,8,9,10]\n",
    "        l1+l2 = [1, 2, 3, 4, 5, 6, 7, 8, 9, 10]\n",
    "        l1*3 = [1, 2, 3, 4, 5, 1, 2, 3, 4, 5, 1, 2, 3, 4, 5]\n",
    "        "
   ]
  },
  {
   "cell_type": "code",
   "execution_count": null,
   "id": "6be0c003",
   "metadata": {},
   "outputs": [],
   "source": [
    "10. What is difference between the list methods append() and insert()?\n",
    "\n",
    "Ans: append method will insert elements at last and insert method will insert values at index level based on our input\n",
    "     \n",
    "        Example: l1=[2,2,3,4,5]\n",
    "                 l1.append([1,2,3,4,5])\n",
    "                 l1=[1, 2, 3, 4, 5, [1, 2, 3, 4, 5]]\n",
    "                 l1.insert(3,88)\n",
    "                 l1=[1, 2, 3, 88, 4, 5, [1, 2, 3, 4, 5]]"
   ]
  },
  {
   "cell_type": "code",
   "execution_count": null,
   "id": "94ebc3c7",
   "metadata": {},
   "outputs": [],
   "source": [
    "11. What are the two methods for removing items from a list?\n",
    "\n",
    "Ans: clear() and  remove()"
   ]
  },
  {
   "cell_type": "code",
   "execution_count": null,
   "id": "bde516fe",
   "metadata": {},
   "outputs": [],
   "source": [
    "12. Describe how list values and string values are identical.\n",
    "\n",
    "Ans: The values in lists and string both can be access through indexing."
   ]
  },
  {
   "cell_type": "code",
   "execution_count": null,
   "id": "7c07d322",
   "metadata": {},
   "outputs": [],
   "source": [
    "13. Whats the difference between tuples and lists?\n",
    "\n",
    "Ans:  Tuples will not support item assignment where as list will support item assignment and can perform slicing operations."
   ]
  },
  {
   "cell_type": "code",
   "execution_count": null,
   "id": "798f9574",
   "metadata": {},
   "outputs": [],
   "source": [
    "14. How do you type a tuple value that only contains the integer 42?\n",
    "\n",
    "Ans: t=(42)"
   ]
  },
  {
   "cell_type": "code",
   "execution_count": null,
   "id": "7c1af45c",
   "metadata": {},
   "outputs": [],
   "source": [
    "15. How do you get a list value's tuple form? How do you get a tuple value's list form?\n",
    "\n",
    "Ans: l=[1,2,3,4,5]\n",
    "     t= tuple(l) # converting list in to tuple\n",
    "     t=(1,2,3,4,5)\n",
    "     l= list(t) # converting tuple in to list\n",
    "     "
   ]
  },
  {
   "cell_type": "code",
   "execution_count": null,
   "id": "acec6943",
   "metadata": {},
   "outputs": [],
   "source": [
    "16. Variables that \"contain\" list values are not necessarily lists themselves. Instead, what do they contain?\n",
    "\n",
    "Ans: The variable  which holds a list contain a reference value in which list will be stored in memory."
   ]
  },
  {
   "cell_type": "code",
   "execution_count": null,
   "id": "d2462960",
   "metadata": {},
   "outputs": [],
   "source": [
    "17. How do you distinguish between copy.copy() and copy.deepcopy()?\n",
    "\n",
    "Ans: copy.copy() function doesnt store nested level data but deepcopy() will store nested level data along with top level data \n",
    "     Example:\n",
    "import copy\n",
    "l1=[{'car':'tesla'},88]\n",
    "l2= copy.copy(l1)\n",
    "l1[0]['car'] = 'tata'\n",
    "l1=[{'car': 'tata'}, 88]\n",
    "l2=[{'car': 'tata'}, 88]     #copy function\n",
    "\n",
    "l1=[{'car':'tesla'},88]\n",
    "l2= copy.deepcopy(l1)\n",
    "l1[0]['car'] = 'tata'\n",
    "l1=[{'car': 'tata'}, 88]\n",
    "l2=[{'car': 'tesla'}, 88]   #deepcopy function"
   ]
  }
 ],
 "metadata": {
  "kernelspec": {
   "display_name": "Python 3",
   "language": "python",
   "name": "python3"
  },
  "language_info": {
   "codemirror_mode": {
    "name": "ipython",
    "version": 3
   },
   "file_extension": ".py",
   "mimetype": "text/x-python",
   "name": "python",
   "nbconvert_exporter": "python",
   "pygments_lexer": "ipython3",
   "version": "3.8.8"
  }
 },
 "nbformat": 4,
 "nbformat_minor": 5
}
