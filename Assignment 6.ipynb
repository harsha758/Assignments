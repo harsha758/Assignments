{
 "cells": [
  {
   "cell_type": "markdown",
   "id": "e75dcaa9",
   "metadata": {},
   "source": [
    "### What are escape characters, and how do you use them?"
   ]
  },
  {
   "cell_type": "code",
   "execution_count": null,
   "id": "b345452a",
   "metadata": {},
   "outputs": [],
   "source": [
    "To insert characters that are illegal in string we use escape characters\n",
    "\n",
    "An escape character is a backslash \\ followed by the character you want to insert\n",
    "\n",
    "example:\n",
    "    \n",
    "txt = \"Hello\\nWorld!\"\n",
    "print(txt) \n",
    "\n",
    "txt = \"Hello\\tWorld!\"\n",
    "print(txt) "
   ]
  },
  {
   "cell_type": "markdown",
   "id": "3f518655",
   "metadata": {},
   "source": [
    "### What do the escape characters n and t stand for?\n",
    "\n"
   ]
  },
  {
   "cell_type": "code",
   "execution_count": null,
   "id": "7f93b7b3",
   "metadata": {},
   "outputs": [],
   "source": [
    "\\n means nextline\n",
    "\\t means tab"
   ]
  },
  {
   "cell_type": "markdown",
   "id": "f53ebe1d",
   "metadata": {},
   "source": [
    "### What is the way to include backslash characters in a string?"
   ]
  },
  {
   "cell_type": "code",
   "execution_count": null,
   "id": "afce1b23",
   "metadata": {},
   "outputs": [],
   "source": [
    "To include backslash characters in a string we use \\ \n",
    "\n",
    "such as the tab character '\\t', the newline character '\\n', or the carriage return '\\r'."
   ]
  },
  {
   "cell_type": "markdown",
   "id": "3d84048b",
   "metadata": {},
   "source": [
    "### The string \"Howl's Moving Castle\" is a correct value. Why isn't the single quote character in the word Howl's not escaped a problem?\n"
   ]
  },
  {
   "cell_type": "code",
   "execution_count": null,
   "id": "39a01fb4",
   "metadata": {},
   "outputs": [],
   "source": [
    "There is no problem having single quote as entire string have double quotes at statring and ending which acts as a single string\n"
   ]
  },
  {
   "cell_type": "markdown",
   "id": "7f955d1b",
   "metadata": {},
   "source": [
    "### How do you write a string of newlines if you don't want to use the n character?"
   ]
  },
  {
   "cell_type": "code",
   "execution_count": null,
   "id": "0be53bb2",
   "metadata": {},
   "outputs": [],
   "source": [
    "By using multiline string using three single quoted\n",
    "\n",
    "Example:\n",
    " '''my name\n",
    "    is harsha'''\n"
   ]
  },
  {
   "cell_type": "markdown",
   "id": "617b0259",
   "metadata": {},
   "source": [
    "### What are the values of the given expressions?\n",
    "'Hello, world!'[1]\n",
    "'Hello, world!'[0:5]\n",
    "'Hello, world!'[:5]\n",
    "'Hello, world!'[3:]"
   ]
  },
  {
   "cell_type": "code",
   "execution_count": 9,
   "id": "dfae5607",
   "metadata": {},
   "outputs": [
    {
     "data": {
      "text/plain": [
       "'e'"
      ]
     },
     "execution_count": 9,
     "metadata": {},
     "output_type": "execute_result"
    }
   ],
   "source": [
    "'Hello, world!'[1]"
   ]
  },
  {
   "cell_type": "code",
   "execution_count": 10,
   "id": "d65d2e41",
   "metadata": {},
   "outputs": [
    {
     "data": {
      "text/plain": [
       "'Hello'"
      ]
     },
     "execution_count": 10,
     "metadata": {},
     "output_type": "execute_result"
    }
   ],
   "source": [
    "'Hello, world!'[0:5]"
   ]
  },
  {
   "cell_type": "code",
   "execution_count": 11,
   "id": "8c3a73b0",
   "metadata": {},
   "outputs": [
    {
     "data": {
      "text/plain": [
       "'Hello'"
      ]
     },
     "execution_count": 11,
     "metadata": {},
     "output_type": "execute_result"
    }
   ],
   "source": [
    "'Hello, world!'[:5]"
   ]
  },
  {
   "cell_type": "code",
   "execution_count": 12,
   "id": "0bdd2664",
   "metadata": {},
   "outputs": [
    {
     "data": {
      "text/plain": [
       "'lo, world!'"
      ]
     },
     "execution_count": 12,
     "metadata": {},
     "output_type": "execute_result"
    }
   ],
   "source": [
    "'Hello, world!'[3:]"
   ]
  },
  {
   "cell_type": "markdown",
   "id": "5e6893a1",
   "metadata": {},
   "source": [
    "### What are the values of the following expressions?\n",
    "'Hello'.upper()\n",
    "'Hello'.upper().isupper()\n",
    "'Hello'.upper().lower()\n"
   ]
  },
  {
   "cell_type": "code",
   "execution_count": 13,
   "id": "52753526",
   "metadata": {},
   "outputs": [
    {
     "data": {
      "text/plain": [
       "'HELLO'"
      ]
     },
     "execution_count": 13,
     "metadata": {},
     "output_type": "execute_result"
    }
   ],
   "source": [
    "'Hello'.upper()"
   ]
  },
  {
   "cell_type": "code",
   "execution_count": 14,
   "id": "6ab86337",
   "metadata": {},
   "outputs": [
    {
     "data": {
      "text/plain": [
       "True"
      ]
     },
     "execution_count": 14,
     "metadata": {},
     "output_type": "execute_result"
    }
   ],
   "source": [
    "'Hello'.upper().isupper()"
   ]
  },
  {
   "cell_type": "code",
   "execution_count": 15,
   "id": "02cd8a43",
   "metadata": {},
   "outputs": [
    {
     "data": {
      "text/plain": [
       "'hello'"
      ]
     },
     "execution_count": 15,
     "metadata": {},
     "output_type": "execute_result"
    }
   ],
   "source": [
    "'Hello'.upper().lower()\n"
   ]
  },
  {
   "cell_type": "markdown",
   "id": "ce7cf5cd",
   "metadata": {},
   "source": [
    "### What are the values of the following expressions?\n",
    "'Remember, remember, the fifth of July.'.split()\n",
    "'-'.join('There can only one.'.split())\n"
   ]
  },
  {
   "cell_type": "code",
   "execution_count": 16,
   "id": "455fbe14",
   "metadata": {},
   "outputs": [
    {
     "data": {
      "text/plain": [
       "['Remember,', 'remember,', 'the', 'fifth', 'of', 'July.']"
      ]
     },
     "execution_count": 16,
     "metadata": {},
     "output_type": "execute_result"
    }
   ],
   "source": [
    "'Remember, remember, the fifth of July.'.split()"
   ]
  },
  {
   "cell_type": "code",
   "execution_count": 17,
   "id": "c8ee25a7",
   "metadata": {},
   "outputs": [
    {
     "data": {
      "text/plain": [
       "'There-can-only-one.'"
      ]
     },
     "execution_count": 17,
     "metadata": {},
     "output_type": "execute_result"
    }
   ],
   "source": [
    "'-'.join('There can only one.'.split())"
   ]
  },
  {
   "cell_type": "markdown",
   "id": "77db4193",
   "metadata": {},
   "source": [
    "### What are the methods for right-justifying, left-justifying, and centering a string?"
   ]
  },
  {
   "cell_type": "code",
   "execution_count": 18,
   "id": "e1fb546f",
   "metadata": {},
   "outputs": [],
   "source": [
    "s=\"pavan sri harsha\""
   ]
  },
  {
   "cell_type": "code",
   "execution_count": 19,
   "id": "b2fac32b",
   "metadata": {},
   "outputs": [
    {
     "data": {
      "text/plain": [
       "'            pavan sri harsha            '"
      ]
     },
     "execution_count": 19,
     "metadata": {},
     "output_type": "execute_result"
    }
   ],
   "source": [
    "s.center(40) # centering a string"
   ]
  },
  {
   "cell_type": "code",
   "execution_count": 20,
   "id": "a12b2c1f",
   "metadata": {},
   "outputs": [
    {
     "data": {
      "text/plain": [
       "'pavan sri harsha    '"
      ]
     },
     "execution_count": 20,
     "metadata": {},
     "output_type": "execute_result"
    }
   ],
   "source": [
    "s.ljust(20) # left-justifying"
   ]
  },
  {
   "cell_type": "code",
   "execution_count": 21,
   "id": "2d7f7a26",
   "metadata": {},
   "outputs": [
    {
     "data": {
      "text/plain": [
       "'    pavan sri harsha'"
      ]
     },
     "execution_count": 21,
     "metadata": {},
     "output_type": "execute_result"
    }
   ],
   "source": [
    "s.rjust(20) # right-justifying"
   ]
  },
  {
   "cell_type": "markdown",
   "id": "fe6effcb",
   "metadata": {},
   "source": [
    "### What is the best way to remove whitespace characters from the start or end?\n"
   ]
  },
  {
   "cell_type": "code",
   "execution_count": null,
   "id": "8c480722",
   "metadata": {},
   "outputs": [],
   "source": [
    "s.strip()\n",
    "s =\" sudh \"\n",
    "\n",
    "# use strip function to remove whitespace from start and end."
   ]
  }
 ],
 "metadata": {
  "kernelspec": {
   "display_name": "Python 3",
   "language": "python",
   "name": "python3"
  },
  "language_info": {
   "codemirror_mode": {
    "name": "ipython",
    "version": 3
   },
   "file_extension": ".py",
   "mimetype": "text/x-python",
   "name": "python",
   "nbconvert_exporter": "python",
   "pygments_lexer": "ipython3",
   "version": "3.8.8"
  }
 },
 "nbformat": 4,
 "nbformat_minor": 5
}
