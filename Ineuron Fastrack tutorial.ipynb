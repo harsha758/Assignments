{
 "cells": [
  {
   "cell_type": "code",
   "execution_count": 4,
   "id": "62fb4fb9",
   "metadata": {},
   "outputs": [
    {
     "name": "stdout",
     "output_type": "stream",
     "text": [
      "my name is harsha\n"
     ]
    }
   ],
   "source": [
    "print(\"my name is harsha\")"
   ]
  },
  {
   "cell_type": "code",
   "execution_count": 5,
   "id": "bcf8d2ba",
   "metadata": {},
   "outputs": [
    {
     "data": {
      "text/plain": [
       "' multiple\\nline\\ncomments\\n'"
      ]
     },
     "execution_count": 5,
     "metadata": {},
     "output_type": "execute_result"
    }
   ],
   "source": [
    "#one line comment\n",
    "\"\"\" multiple\n",
    "line\n",
    "comments\n",
    "\"\"\""
   ]
  },
  {
   "cell_type": "code",
   "execution_count": null,
   "id": "ee0c4fa5",
   "metadata": {
    "scrolled": true
   },
   "outputs": [],
   "source": [
    "# variable assignment\n",
    "a=10\n",
    "type(a)\n",
    "b=\"Jarvis\"\n",
    "type(b)\n",
    "a,b= 10,\"jarvis\"\n",
    "\n",
    "print(a,b,'harsha')"
   ]
  },
  {
   "cell_type": "code",
   "execution_count": 17,
   "id": "e7d89a6c",
   "metadata": {},
   "outputs": [
    {
     "data": {
      "text/plain": [
       "bool"
      ]
     },
     "execution_count": 17,
     "metadata": {},
     "output_type": "execute_result"
    }
   ],
   "source": [
    "c = 1.8\n",
    "type(c)\n",
    "\n",
    "d = True\n",
    "type(d)"
   ]
  },
  {
   "cell_type": "code",
   "execution_count": 23,
   "id": "77463530",
   "metadata": {
    "scrolled": true
   },
   "outputs": [
    {
     "name": "stdout",
     "output_type": "stream",
     "text": [
      "4\n",
      "0\n"
     ]
    }
   ],
   "source": [
    "print( True + True + True + False + True )\n",
    "print(False - True + True)"
   ]
  },
  {
   "cell_type": "code",
   "execution_count": 31,
   "id": "4d707b43",
   "metadata": {},
   "outputs": [
    {
     "data": {
      "text/plain": [
       "6.0"
      ]
     },
     "execution_count": 31,
     "metadata": {},
     "output_type": "execute_result"
    }
   ],
   "source": [
    "n = 45 + 6j\n",
    "type(n)\n",
    "n.real\n",
    "n.imag\n"
   ]
  },
  {
   "cell_type": "code",
   "execution_count": 2,
   "id": "41dcc9f5",
   "metadata": {},
   "outputs": [
    {
     "name": "stdout",
     "output_type": "stream",
     "text": [
      "enter a integer2\n"
     ]
    },
    {
     "data": {
      "text/plain": [
       "int"
      ]
     },
     "execution_count": 2,
     "metadata": {},
     "output_type": "execute_result"
    }
   ],
   "source": [
    " #operations will work on single data types\n",
    "    \n",
    "a = int(input(\"enter a integer\"))\n",
    "type(a)"
   ]
  },
  {
   "cell_type": "code",
   "execution_count": 5,
   "id": "c06bb3ca",
   "metadata": {},
   "outputs": [
    {
     "name": "stdout",
     "output_type": "stream",
     "text": [
      "this is my var a12\n"
     ]
    },
    {
     "data": {
      "text/plain": [
       "str"
      ]
     },
     "execution_count": 5,
     "metadata": {},
     "output_type": "execute_result"
    }
   ],
   "source": [
    " a = input(\"this is my var a\")\n",
    "type(a)\n"
   ]
  },
  {
   "cell_type": "markdown",
   "id": "6f3e2be3",
   "metadata": {},
   "source": [
    "## If else statement "
   ]
  },
  {
   "cell_type": "code",
   "execution_count": null,
   "id": "b4e12a0f",
   "metadata": {},
   "outputs": [],
   "source": [
    "a = 10\n",
    "b = 20\n",
    "if a == 10 and b < 20:\n",
    "    print(\"statement is valid\")\n",
    "elif a== 10 and b<=20:\n",
    "    print(\"statement is elif condition\")\n",
    "else :\n",
    "    print(\"statemnt is not valid\")\n",
    "    \n",
    "firstname= input(\"enter your first name\")\n",
    "lastname= input(\"enter your last name\")\n",
    "\n",
    "if firstname == 'pavan' and lastname == 'harsha':\n",
    "    print(\"name is correct\")\n",
    "else:\n",
    "    print(\"name is not correct\")\n",
    "    "
   ]
  },
  {
   "cell_type": "markdown",
   "id": "5f65eec7",
   "metadata": {},
   "source": [
    "## while loop"
   ]
  },
  {
   "cell_type": "code",
   "execution_count": 26,
   "id": "8f7aa2b1",
   "metadata": {},
   "outputs": [
    {
     "name": "stdout",
     "output_type": "stream",
     "text": [
      "this is my speed\n",
      "this is my speed\n"
     ]
    }
   ],
   "source": [
    "initial_speed =0\n",
    "final_speed =100\n",
    "count = 1\n",
    "while initial_speed < final_speed:\n",
    "    print(\"this is my speed\")\n",
    "    count=count+1\n",
    "    if count  == 3:\n",
    "        break\n",
    "    \n"
   ]
  },
  {
   "cell_type": "code",
   "execution_count": 1,
   "id": "3ca50ee9",
   "metadata": {},
   "outputs": [
    {
     "name": "stdout",
     "output_type": "stream",
     "text": [
      "1\n",
      "2\n",
      "3\n",
      "4\n",
      "no 10 rs notes are there\n"
     ]
    }
   ],
   "source": [
    "notes=5\n",
    "i=1\n",
    "while i< notes:\n",
    "    print(i)\n",
    "    i+=1\n",
    "else:\n",
    "    print(\"no 10 rs notes are there\")"
   ]
  },
  {
   "cell_type": "code",
   "execution_count": null,
   "id": "7290b638",
   "metadata": {},
   "outputs": [],
   "source": [
    "#Indexing"
   ]
  },
  {
   "cell_type": "code",
   "execution_count": 16,
   "id": "823b520f",
   "metadata": {},
   "outputs": [
    {
     "data": {
      "text/plain": [
       "'nes'"
      ]
     },
     "execution_count": 16,
     "metadata": {},
     "output_type": "execute_result"
    }
   ],
   "source": [
    "s=\"my name is harsha\"\n",
    "\n",
    "s[3:10]\n",
    "s[3:10:3]"
   ]
  },
  {
   "cell_type": "code",
   "execution_count": 7,
   "id": "702b492d",
   "metadata": {},
   "outputs": [
    {
     "data": {
      "text/plain": [
       "' si eman'"
      ]
     },
     "execution_count": 7,
     "metadata": {},
     "output_type": "execute_result"
    }
   ],
   "source": [
    "#reversing the string\n",
    "s[10:2:-1]"
   ]
  },
  {
   "cell_type": "markdown",
   "id": "9901448c",
   "metadata": {},
   "source": [
    "## For loop"
   ]
  },
  {
   "cell_type": "code",
   "execution_count": 14,
   "id": "181d1655",
   "metadata": {},
   "outputs": [
    {
     "name": "stdout",
     "output_type": "stream",
     "text": [
      "m\n",
      "y\n",
      " \n",
      "n\n",
      "a\n",
      "m\n",
      "e\n",
      " \n",
      "i\n",
      " i got s in a string\n",
      "s\n",
      " \n",
      "h\n",
      "a\n",
      "r\n",
      " i got s in a string\n",
      "s\n",
      "h\n",
      "a\n"
     ]
    }
   ],
   "source": [
    "for i in s:\n",
    "    if i=='s':\n",
    "        print(\" i got s in a string\")\n",
    "    print(i)\n"
   ]
  },
  {
   "cell_type": "code",
   "execution_count": 18,
   "id": "f75d2e35",
   "metadata": {},
   "outputs": [
    {
     "name": "stdout",
     "output_type": "stream",
     "text": [
      "m\n",
      "y\n",
      " \n"
     ]
    }
   ],
   "source": [
    "for i in s:\n",
    "    if i=='n':\n",
    "        break\n",
    "    print(i)"
   ]
  },
  {
   "cell_type": "code",
   "execution_count": 109,
   "id": "6387a37f",
   "metadata": {},
   "outputs": [
    {
     "name": "stdout",
     "output_type": "stream",
     "text": [
      "*\r\n",
      "**\r\n",
      "***\r\n",
      "****\r\n",
      "*****\r\n",
      "******\r\n",
      "*******\r\n",
      "********\r\n",
      "*********\r\n",
      "**********\r\n",
      "***********\r\n",
      "**********\r\n",
      "*********\r\n",
      "********\r\n",
      "*******\r\n",
      "******\r\n",
      "*****\r\n",
      "****\r\n",
      "***\r\n",
      "**\r\n"
     ]
    }
   ],
   "source": [
    "n=0# nested for loop\n",
    "for i in range(10,n,-1):\n",
    "    for j in range(0,n+1):\n",
    "        print(\"*\", end=\"\")\n",
    "    print(\"\\r\")\n",
    "    n=n+1\n",
    "n=10# nested for loop\n",
    "for i in range(0,n,):\n",
    "    for j in range(0,n+1):\n",
    "        print(\"*\", end=\"\")\n",
    "    print(\"\\r\")\n",
    "    n=n-1 "
   ]
  },
  {
   "cell_type": "code",
   "execution_count": 111,
   "id": "a28763c9",
   "metadata": {},
   "outputs": [
    {
     "name": "stdout",
     "output_type": "stream",
     "text": [
      "**********\r\n",
      "*********\r\n",
      "********\r\n",
      "*******\r\n",
      "******\r\n",
      "*****\r\n",
      "****\r\n",
      "***\r\n",
      "**\r\n",
      "*\r\n"
     ]
    }
   ],
   "source": [
    "n=10# nested for loop\n",
    "for i in range(0,n,):\n",
    "    for j in range(0,n):\n",
    "        print(\"*\", end=\"\")\n",
    "    print(\"\\r\")\n",
    "    n=n-1 "
   ]
  },
  {
   "cell_type": "code",
   "execution_count": 115,
   "id": "5b06f3b5",
   "metadata": {},
   "outputs": [
    {
     "name": "stdout",
     "output_type": "stream",
     "text": [
      "    * \r\n",
      "    * \r\n",
      "* \r\n",
      "    * \r\n",
      "* \r\n",
      "* \r\n",
      "    * \r\n",
      "* \r\n",
      "* \r\n",
      "* \r\n",
      "    * \r\n",
      "* \r\n",
      "* \r\n",
      "* \r\n",
      "* \r\n"
     ]
    }
   ],
   "source": [
    "n=5;\n",
    "k=4;\n",
    "for i in range(0,n):\n",
    "    for j in range(0,k):\n",
    "        print(\"#\")\n",
    "    for j in range(0,i+1):\n",
    "        print(\"*\", end=\" \")\n",
    "        print(\"\\r\")\n",
    "    "
   ]
  },
  {
   "cell_type": "code",
   "execution_count": 118,
   "id": "5b4d617a",
   "metadata": {},
   "outputs": [
    {
     "name": "stdout",
     "output_type": "stream",
     "text": [
      "#\n",
      "#\n",
      "#\n",
      "#\n"
     ]
    }
   ],
   "source": [
    "k=4\n",
    "for i in range(0,5):\n",
    "    for j in range(0,k):\n",
    "        print(\"#\")\n",
    "        k=k-1\n",
    "    \n"
   ]
  },
  {
   "cell_type": "code",
   "execution_count": 99,
   "id": "014dd4d4",
   "metadata": {},
   "outputs": [
    {
     "name": "stdout",
     "output_type": "stream",
     "text": [
      "0\n",
      "1\n",
      "2\n"
     ]
    }
   ],
   "source": [
    "n=3\n",
    "for j in range(0,3):\n",
    "    print(j)\n",
    "    "
   ]
  },
  {
   "cell_type": "code",
   "execution_count": 94,
   "id": "ae200cf4",
   "metadata": {},
   "outputs": [
    {
     "name": "stdout",
     "output_type": "stream",
     "text": [
      "10\n",
      "9\n",
      "8\n",
      "7\n",
      "6\n",
      "5\n",
      "4\n",
      "3\n",
      "2\n"
     ]
    }
   ],
   "source": [
    "for i in range(10,1,-1):\n",
    "    print(i)"
   ]
  },
  {
   "cell_type": "markdown",
   "id": "74c7773d",
   "metadata": {},
   "source": [
    "## Lists "
   ]
  },
  {
   "cell_type": "code",
   "execution_count": 9,
   "id": "747e4b72",
   "metadata": {},
   "outputs": [
    {
     "data": {
      "text/plain": [
       "list"
      ]
     },
     "execution_count": 9,
     "metadata": {},
     "output_type": "execute_result"
    }
   ],
   "source": [
    "l =list()\n",
    "l1=[] #creating a empty lists\n",
    "\n",
    "type(l)   ## list is collection of different data types in one variable."
   ]
  },
  {
   "cell_type": "code",
   "execution_count": 42,
   "id": "a3fc053f",
   "metadata": {},
   "outputs": [
    {
     "data": {
      "text/plain": [
       "25.3"
      ]
     },
     "execution_count": 42,
     "metadata": {},
     "output_type": "execute_result"
    }
   ],
   "source": [
    "l=[799501,\"harsha\",25.3]\n",
    "l[2]"
   ]
  },
  {
   "cell_type": "code",
   "execution_count": 43,
   "id": "4e2b65a1",
   "metadata": {},
   "outputs": [],
   "source": [
    "l.append(\"pavan\")\n"
   ]
  },
  {
   "cell_type": "code",
   "execution_count": 20,
   "id": "9ef8d039",
   "metadata": {},
   "outputs": [],
   "source": [
    "l=[1,2,3,4,5]"
   ]
  },
  {
   "cell_type": "code",
   "execution_count": 21,
   "id": "d3d57a88",
   "metadata": {},
   "outputs": [
    {
     "data": {
      "text/plain": [
       "[]"
      ]
     },
     "execution_count": 21,
     "metadata": {},
     "output_type": "execute_result"
    }
   ],
   "source": [
    "l.append(6)\n",
    "l.clear()\n",
    "l.copy()"
   ]
  },
  {
   "cell_type": "code",
   "execution_count": 25,
   "id": "99ecf882",
   "metadata": {},
   "outputs": [],
   "source": [
    "l=[799501,\"harsha\",25.3,25.3,799508]"
   ]
  },
  {
   "cell_type": "code",
   "execution_count": 23,
   "id": "7957a937",
   "metadata": {},
   "outputs": [
    {
     "data": {
      "text/plain": [
       "[799501, 'harsha', 25.3]"
      ]
     },
     "execution_count": 23,
     "metadata": {},
     "output_type": "execute_result"
    }
   ],
   "source": [
    "l.copy()"
   ]
  },
  {
   "cell_type": "code",
   "execution_count": 26,
   "id": "8c9ad24f",
   "metadata": {},
   "outputs": [
    {
     "data": {
      "text/plain": [
       "2"
      ]
     },
     "execution_count": 26,
     "metadata": {},
     "output_type": "execute_result"
    }
   ],
   "source": [
    "l.count(25.3)"
   ]
  },
  {
   "cell_type": "code",
   "execution_count": 30,
   "id": "8d1f12db",
   "metadata": {},
   "outputs": [
    {
     "data": {
      "text/plain": [
       "2"
      ]
     },
     "execution_count": 30,
     "metadata": {},
     "output_type": "execute_result"
    }
   ],
   "source": [
    "l.index(25.3,0,6)"
   ]
  },
  {
   "cell_type": "code",
   "execution_count": 33,
   "id": "7fda18f7",
   "metadata": {},
   "outputs": [
    {
     "data": {
      "text/plain": [
       "[799501, 'harsha', 25.3, 25.3, 5, 5, 5, 799508]"
      ]
     },
     "execution_count": 33,
     "metadata": {},
     "output_type": "execute_result"
    }
   ],
   "source": [
    "l.insert(4,5)\n",
    "l"
   ]
  },
  {
   "cell_type": "code",
   "execution_count": 38,
   "id": "b3cd2031",
   "metadata": {},
   "outputs": [
    {
     "data": {
      "text/plain": [
       "[799501, 'harsha', 25.3, 25.3]"
      ]
     },
     "execution_count": 38,
     "metadata": {},
     "output_type": "execute_result"
    }
   ],
   "source": [
    "l.pop(4)\n",
    "l"
   ]
  },
  {
   "cell_type": "code",
   "execution_count": 40,
   "id": "541c8ec6",
   "metadata": {},
   "outputs": [
    {
     "data": {
      "text/plain": [
       "[799501, 'harsha']"
      ]
     },
     "execution_count": 40,
     "metadata": {},
     "output_type": "execute_result"
    }
   ],
   "source": [
    "l.remove(25.3)\n",
    "l"
   ]
  },
  {
   "cell_type": "markdown",
   "id": "5ce496f0",
   "metadata": {},
   "source": [
    "# ##strings"
   ]
  },
  {
   "cell_type": "code",
   "execution_count": 2,
   "id": "5b895356",
   "metadata": {},
   "outputs": [
    {
     "ename": "NameError",
     "evalue": "name 's' is not defined",
     "output_type": "error",
     "traceback": [
      "\u001b[1;31m---------------------------------------------------------------------------\u001b[0m",
      "\u001b[1;31mNameError\u001b[0m                                 Traceback (most recent call last)",
      "\u001b[1;32m<ipython-input-2-81d183ba4ed1>\u001b[0m in \u001b[0;36m<module>\u001b[1;34m\u001b[0m\n\u001b[0;32m      1\u001b[0m \u001b[1;31m# string is a imutable object\u001b[0m\u001b[1;33m\u001b[0m\u001b[1;33m\u001b[0m\u001b[1;33m\u001b[0m\u001b[0m\n\u001b[0;32m      2\u001b[0m \u001b[0mS\u001b[0m\u001b[1;33m=\u001b[0m\u001b[1;34m\"my name is harsha\"\u001b[0m\u001b[1;33m\u001b[0m\u001b[1;33m\u001b[0m\u001b[0m\n\u001b[1;32m----> 3\u001b[1;33m \u001b[0ms\u001b[0m\u001b[1;33m[\u001b[0m\u001b[1;36m0\u001b[0m\u001b[1;33m]\u001b[0m\u001b[1;33m\u001b[0m\u001b[1;33m\u001b[0m\u001b[0m\n\u001b[0m",
      "\u001b[1;31mNameError\u001b[0m: name 's' is not defined"
     ]
    }
   ],
   "source": [
    "# string is a imutable object\n",
    "S=\"my name is harsha\"\n",
    "s[0]"
   ]
  },
  {
   "cell_type": "code",
   "execution_count": 2,
   "id": "ce599608",
   "metadata": {},
   "outputs": [
    {
     "data": {
      "text/plain": [
       "'ahsrah si eman ym'"
      ]
     },
     "execution_count": 2,
     "metadata": {},
     "output_type": "execute_result"
    }
   ],
   "source": [
    "s[::-1]"
   ]
  },
  {
   "cell_type": "code",
   "execution_count": 8,
   "id": "9aa1bbc8",
   "metadata": {
    "scrolled": true
   },
   "outputs": [
    {
     "name": "stdout",
     "output_type": "stream",
     "text": [
      "s character has there\n",
      "s character has there\n"
     ]
    }
   ],
   "source": [
    "for i in S:\n",
    "    if i == \"s\":\n",
    "        print(\"s character has there\")"
   ]
  },
  {
   "cell_type": "code",
   "execution_count": 11,
   "id": "7d0c861f",
   "metadata": {},
   "outputs": [
    {
     "data": {
      "text/plain": [
       "4"
      ]
     },
     "execution_count": 11,
     "metadata": {},
     "output_type": "execute_result"
    }
   ],
   "source": [
    "s.find('a') # inbuilt methods in string"
   ]
  },
  {
   "cell_type": "code",
   "execution_count": 12,
   "id": "d3781558",
   "metadata": {},
   "outputs": [
    {
     "data": {
      "text/plain": [
       "3"
      ]
     },
     "execution_count": 12,
     "metadata": {},
     "output_type": "execute_result"
    }
   ],
   "source": [
    "s.count('a')"
   ]
  },
  {
   "cell_type": "code",
   "execution_count": 13,
   "id": "de5e6fd0",
   "metadata": {},
   "outputs": [
    {
     "data": {
      "text/plain": [
       "['my', 'name', 'is', 'harsha']"
      ]
     },
     "execution_count": 13,
     "metadata": {},
     "output_type": "execute_result"
    }
   ],
   "source": [
    "s.split()"
   ]
  },
  {
   "cell_type": "code",
   "execution_count": 9,
   "id": "54e8b1d1",
   "metadata": {},
   "outputs": [
    {
     "data": {
      "text/plain": [
       "'kl unlverslty ls my colllege'"
      ]
     },
     "execution_count": 9,
     "metadata": {},
     "output_type": "execute_result"
    }
   ],
   "source": [
    "s=\"kl university is my colllege\"\n",
    "s.replace(\"i\",\"l\")"
   ]
  },
  {
   "cell_type": "code",
   "execution_count": 10,
   "id": "3020c3c9",
   "metadata": {},
   "outputs": [
    {
     "data": {
      "text/plain": [
       "'kl university is my colllege'"
      ]
     },
     "execution_count": 10,
     "metadata": {},
     "output_type": "execute_result"
    }
   ],
   "source": [
    "s.center(20,'#')"
   ]
  },
  {
   "cell_type": "code",
   "execution_count": 44,
   "id": "68eba265",
   "metadata": {},
   "outputs": [],
   "source": [
    "s= \"harsha \\ pavan\""
   ]
  },
  {
   "cell_type": "code",
   "execution_count": 45,
   "id": "8ba48e46",
   "metadata": {},
   "outputs": [
    {
     "data": {
      "text/plain": [
       "'harsha \\\\ pavan'"
      ]
     },
     "execution_count": 45,
     "metadata": {},
     "output_type": "execute_result"
    }
   ],
   "source": [
    "s"
   ]
  },
  {
   "cell_type": "code",
   "execution_count": 46,
   "id": "211c0f78",
   "metadata": {},
   "outputs": [
    {
     "data": {
      "text/plain": [
       "'harsha \\\\ pavan'"
      ]
     },
     "execution_count": 46,
     "metadata": {},
     "output_type": "execute_result"
    }
   ],
   "source": [
    "s.expandtabs()"
   ]
  },
  {
   "cell_type": "code",
   "execution_count": 32,
   "id": "d8780ff2",
   "metadata": {},
   "outputs": [],
   "source": [
    "a=\"We All Are a Part Of Full Stack;\""
   ]
  },
  {
   "cell_type": "code",
   "execution_count": 19,
   "id": "1c588c6e",
   "metadata": {},
   "outputs": [
    {
     "data": {
      "text/plain": [
       "'we all are a part of full stack'"
      ]
     },
     "execution_count": 19,
     "metadata": {},
     "output_type": "execute_result"
    }
   ],
   "source": [
    "a.lower()"
   ]
  },
  {
   "cell_type": "code",
   "execution_count": 24,
   "id": "d1b65998",
   "metadata": {},
   "outputs": [
    {
     "data": {
      "text/plain": [
       "3"
      ]
     },
     "execution_count": 24,
     "metadata": {},
     "output_type": "execute_result"
    }
   ],
   "source": [
    "a.count('a')"
   ]
  },
  {
   "cell_type": "code",
   "execution_count": 28,
   "id": "d7d7a721",
   "metadata": {},
   "outputs": [
    {
     "name": "stdout",
     "output_type": "stream",
     "text": [
      "1\n",
      "5\n",
      "8\n",
      "10\n"
     ]
    }
   ],
   "source": [
    "for i in range(len(s)):\n",
    "    if s[i]=='a':\n",
    "        print(i)"
   ]
  },
  {
   "cell_type": "code",
   "execution_count": 27,
   "id": "268892ca",
   "metadata": {},
   "outputs": [
    {
     "name": "stdout",
     "output_type": "stream",
     "text": [
      "True\n"
     ]
    }
   ],
   "source": [
    "print(i in s.lstrip())"
   ]
  },
  {
   "cell_type": "code",
   "execution_count": 33,
   "id": "f9bb7b5b",
   "metadata": {},
   "outputs": [
    {
     "data": {
      "text/plain": [
       "False"
      ]
     },
     "execution_count": 33,
     "metadata": {},
     "output_type": "execute_result"
    }
   ],
   "source": [
    "s.isidentifier()"
   ]
  },
  {
   "cell_type": "code",
   "execution_count": 35,
   "id": "2c819158",
   "metadata": {},
   "outputs": [
    {
     "name": "stdout",
     "output_type": "stream",
     "text": [
      "h is not a vowel\n",
      "a is a vowel\n",
      "r is not a vowel\n",
      "s is not a vowel\n",
      "h is not a vowel\n",
      "a is a vowel\n"
     ]
    }
   ],
   "source": [
    "name=\"harsha\"\n",
    "vowels=\"aAeEiIoOuU\"\n",
    "for i in name:\n",
    "    if i in vowels:\n",
    "        print(\"{} is a vowel\".format(i))\n",
    "    else:\n",
    "        print(\"{} is not a vowel\".format(i))"
   ]
  },
  {
   "cell_type": "code",
   "execution_count": 40,
   "id": "a6f430c3",
   "metadata": {},
   "outputs": [
    {
     "name": "stdout",
     "output_type": "stream",
     "text": [
      "enter a stringxyx\n",
      "it is palindrome\n"
     ]
    }
   ],
   "source": [
    "a= input(\"enter a string\")\n",
    "b= a[::-1]\n",
    "if a == b:\n",
    "    print(\"it is palindrome\")\n",
    "else:\n",
    "    print(\"It is not palindrome\")\n"
   ]
  },
  {
   "cell_type": "code",
   "execution_count": null,
   "id": "a2c50bbf",
   "metadata": {},
   "outputs": [],
   "source": []
  }
 ],
 "metadata": {
  "kernelspec": {
   "display_name": "Python 3",
   "language": "python",
   "name": "python3"
  },
  "language_info": {
   "codemirror_mode": {
    "name": "ipython",
    "version": 3
   },
   "file_extension": ".py",
   "mimetype": "text/x-python",
   "name": "python",
   "nbconvert_exporter": "python",
   "pygments_lexer": "ipython3",
   "version": "3.8.8"
  }
 },
 "nbformat": 4,
 "nbformat_minor": 5
}
