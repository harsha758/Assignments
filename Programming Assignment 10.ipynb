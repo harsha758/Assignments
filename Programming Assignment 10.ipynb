{
 "cells": [
  {
   "cell_type": "code",
   "execution_count": null,
   "id": "2221dba1",
   "metadata": {},
   "outputs": [],
   "source": [
    "1.\tWrite a Python program to find sum of elements in list?\n",
    "\n",
    "n = int(input(\"please enter how many numbers you want to insert in list\"))\n",
    "l=[]\n",
    "for i in range(n):\n",
    "    num = int(input())\n",
    "    l.append(num)\n",
    "sum = 0\n",
    "for i in l:\n",
    "    sum = sum+i\n",
    "print(\"The sum of elements in list is\",sum)"
   ]
  },
  {
   "cell_type": "code",
   "execution_count": null,
   "id": "8cdb87db",
   "metadata": {},
   "outputs": [],
   "source": [
    "2.\tWrite a Python program to  Multiply all numbers in the list?\n",
    "\n",
    "n = int(input(\"please enter how many numbers you want to insert in list\"))\n",
    "l=[]\n",
    "for i in range(n):\n",
    "    num = int(input())\n",
    "    l.append(num)\n",
    "mul = 1\n",
    "for i in l:\n",
    "    mul = mul*i\n",
    "print(\"The multiplication of elements in list is\",mul)"
   ]
  },
  {
   "cell_type": "code",
   "execution_count": null,
   "id": "e2d88ce4",
   "metadata": {},
   "outputs": [],
   "source": [
    "3.\tWrite a Python program to find smallest number in a list?\n",
    "\n",
    "n = int(input(\"please enter how many numbers you want to insert in list\"))\n",
    "l=[]\n",
    "for i in range(n):\n",
    "    num = int(input())\n",
    "    l.append(num)\n",
    "print(\"The smallest number in the list\",min(l))"
   ]
  },
  {
   "cell_type": "code",
   "execution_count": null,
   "id": "f13d361d",
   "metadata": {},
   "outputs": [],
   "source": [
    "4.\tWrite a Python program to find largest number in a list?\n",
    "\n",
    "n = int(input(\"please enter how many numbers you want to insert in list\"))\n",
    "l=[]\n",
    "for i in range(n):\n",
    "    num = int(input())\n",
    "    l.append(num)\n",
    "print(\"The Largest number in the list\",max(l))"
   ]
  },
  {
   "cell_type": "code",
   "execution_count": null,
   "id": "4ef99e36",
   "metadata": {},
   "outputs": [],
   "source": [
    "5.\tWrite a Python program to find second largest number in a list?\n",
    "\n",
    "n = int(input(\"please enter how many numbers you want to insert in list\"))\n",
    "l=[]\n",
    "for i in range(n):\n",
    "    num = int(input())\n",
    "    l.append(num)\n",
    "l.sort() \n",
    "print(\"The second Largest number in the list\",l[-2])"
   ]
  },
  {
   "cell_type": "code",
   "execution_count": null,
   "id": "11732c44",
   "metadata": {},
   "outputs": [],
   "source": [
    "6.\tWrite a Python program to find N largest elements from a list?\n",
    "\n",
    "n = int(input(\"please enter how many numbers you want to insert in list\"))\n",
    "l=[]\n",
    "for i in range(n):\n",
    "    num = int(input())\n",
    "    l.append(num)\n",
    "l.sort() \n",
    "print(\"The N Largest element in the list\",l[-1])"
   ]
  },
  {
   "cell_type": "code",
   "execution_count": null,
   "id": "6d7472af",
   "metadata": {},
   "outputs": [],
   "source": [
    "7.\tWrite a Python program to print even numbers in a list?\n",
    "\n",
    "n = int(input(\"please enter how many numbers you want to insert in list\"))\n",
    "l=[]\n",
    "l1=[]\n",
    "for i in range(n):\n",
    "    num = int(input())\n",
    "    l.append(num)\n",
    "for j in l:\n",
    "        if j%2==0:\n",
    "            l1.append(j)\n",
    "print(\"The even numbers in list are\",l1)"
   ]
  },
  {
   "cell_type": "code",
   "execution_count": null,
   "id": "ee4bdd9d",
   "metadata": {},
   "outputs": [],
   "source": [
    "8.\tWrite a Python program to print odd numbers in a List?\n",
    "\n",
    "n = int(input(\"please enter how many numbers you want to insert in list\"))\n",
    "l=[]\n",
    "l1=[]\n",
    "for i in range(n):\n",
    "    num = int(input())\n",
    "    l.append(num)\n",
    "for j in l:\n",
    "        if j%2!=0:\n",
    "            l1.append(j)\n",
    "print(\"The odd numbers in list are\",l1)"
   ]
  },
  {
   "cell_type": "code",
   "execution_count": null,
   "id": "807bca25",
   "metadata": {},
   "outputs": [],
   "source": [
    "9.\tWrite a Python program to Remove empty List from List?\n",
    "l=[1,2,[],[3,4,5],[],[6,7,8],9,10]\n",
    "for i in l:\n",
    "    if type(i) == list:\n",
    "        if len(i) == 0:\n",
    "            l.remove(i)\n",
    "print(l)"
   ]
  },
  {
   "cell_type": "code",
   "execution_count": null,
   "id": "fc085d1d",
   "metadata": {},
   "outputs": [],
   "source": [
    "10.\tWrite a Python program to Cloning or Copying a list?\n",
    "\n",
    "n = int(input(\"please enter how many numbers you want to insert in list\"))\n",
    "l=[]\n",
    "l1=[]\n",
    "for i in range(n):\n",
    "    num = int(input())\n",
    "    l.append(num)\n",
    "l1= l[:]\n",
    "print(\"The list of elements before cloning\",l)\n",
    "print(\"The list of elements after cloning\",l1)"
   ]
  },
  {
   "cell_type": "code",
   "execution_count": null,
   "id": "792de57a",
   "metadata": {},
   "outputs": [],
   "source": [
    "11.\tWrite a Python program to Count occurrences of an element in a list?\n",
    "\n",
    "l=[1,2,2,3,3,4,4,4,4,5,5]\n",
    "s=[]\n",
    "for i in l:\n",
    "    if i in s:\n",
    "        continue\n",
    "    else:\n",
    "        s.append(i)\n",
    "        print(i,\"repeats\",l.count(i),\"times\")"
   ]
  }
 ],
 "metadata": {
  "kernelspec": {
   "display_name": "Python 3",
   "language": "python",
   "name": "python3"
  },
  "language_info": {
   "codemirror_mode": {
    "name": "ipython",
    "version": 3
   },
   "file_extension": ".py",
   "mimetype": "text/x-python",
   "name": "python",
   "nbconvert_exporter": "python",
   "pygments_lexer": "ipython3",
   "version": "3.8.8"
  }
 },
 "nbformat": 4,
 "nbformat_minor": 5
}
