{
 "cells": [
  {
   "cell_type": "code",
   "execution_count": null,
   "id": "beedbc1f",
   "metadata": {},
   "outputs": [],
   "source": [
    "1.\tWrite a Python program to find words which are greater than given length k?\n",
    "\n",
    "s = input(\"please enter string\")\n",
    "k = int(input(\"please enter length\"))\n",
    "s1 = s.split(\" \")\n",
    "for i in s1:\n",
    "    if len(i)>k:\n",
    "        print(i)"
   ]
  },
  {
   "cell_type": "code",
   "execution_count": null,
   "id": "d1472c37",
   "metadata": {},
   "outputs": [],
   "source": [
    "2.\tWrite a Python program for removing i-th character from a string?\n",
    "\n",
    "s = input(\"please enter string\")\n",
    "n = int(input(\"please enter in which position the character should be removed\"))\n",
    "str1=\"\"\n",
    "for i in range(len(s)):\n",
    "    if i!=n:\n",
    "        str1 = str1 + s[i]\n",
    "print(str1)"
   ]
  },
  {
   "cell_type": "code",
   "execution_count": null,
   "id": "9c5b8b3b",
   "metadata": {},
   "outputs": [],
   "source": [
    "3.\tWrite a Python program to split and join a string?\n",
    "\n",
    "s= input(\"please enter a string\")\n",
    "s1=input(\"please enter a string\")\n",
    "l=s.split(\" \") # ['pavan', 'sri', 'harsha']\n",
    "l1=s.join(s1)  # 'hpavan sri harshaapavan sri harsharpavan sri harshaspavan sri harshahpavan sri harshaa'"
   ]
  },
  {
   "cell_type": "code",
   "execution_count": null,
   "id": "2858ed4e",
   "metadata": {},
   "outputs": [],
   "source": [
    "4.\tWrite a Python to check if a given string is binary string or not?\n",
    "\n",
    "string = input(\"please enter a string\")\n",
    "l={'0','1'}\n",
    "count = 0\n",
    "for i in string:\n",
    "    if i in l:\n",
    "        count=count+1\n",
    "if len(string) == count:\n",
    "    print(\"The given string is a binary string\")\n",
    "else:\n",
    "    print(\"The given string is not binary string\")"
   ]
  },
  {
   "cell_type": "code",
   "execution_count": null,
   "id": "873b8315",
   "metadata": {},
   "outputs": [],
   "source": [
    " 5.\tWrite a Python program to find uncommon words from two Strings?\n",
    "\n",
    "str1= input(\"enter first string\")\n",
    "str2= input(\"enter second string\")\n",
    "s1 = str1.split(\" \")\n",
    "s2 = str2.split(\" \")\n",
    "s3=\"\"\n",
    "for i in s1:\n",
    "    if i in s2:\n",
    "        continue\n",
    "    else:\n",
    "        s3=s3+i\n",
    "for j in s2:\n",
    "    if j in s1:\n",
    "        continue\n",
    "    else:\n",
    "        s3=s3+j       "
   ]
  },
  {
   "cell_type": "code",
   "execution_count": null,
   "id": "6abc0fda",
   "metadata": {},
   "outputs": [],
   "source": [
    "6.\tWrite a Python to find all duplicate characters in string?\n",
    "\n",
    "s= input(\"please enter string\")\n",
    "l=[]\n",
    "for i in s:\n",
    "    if i in l:\n",
    "        continue\n",
    "    else:\n",
    "        l.append(i)\n",
    "print(l)\n",
    "        "
   ]
  }
 ],
 "metadata": {
  "kernelspec": {
   "display_name": "Python 3",
   "language": "python",
   "name": "python3"
  },
  "language_info": {
   "codemirror_mode": {
    "name": "ipython",
    "version": 3
   },
   "file_extension": ".py",
   "mimetype": "text/x-python",
   "name": "python",
   "nbconvert_exporter": "python",
   "pygments_lexer": "ipython3",
   "version": "3.8.8"
  }
 },
 "nbformat": 4,
 "nbformat_minor": 5
}
