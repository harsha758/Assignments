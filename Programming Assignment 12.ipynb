{
 "cells": [
  {
   "cell_type": "code",
   "execution_count": 62,
   "id": "1aecbc6e",
   "metadata": {},
   "outputs": [
    {
     "name": "stdout",
     "output_type": "stream",
     "text": [
      "[1, 2, 3, 4, 5, 8, 89, 99, 100, 101, 'h', 'a', 'r', 's']\n"
     ]
    }
   ],
   "source": [
    "# Write a Python program to Extract Unique values dictionary values?\n",
    "\n",
    "d = {'a':[1,2,3,3,4,5,5,5,5],'b':(8,8,89,99,99,100,100,101),'e':{99,4,5},'f':{99,4,5},'g':'harsha'}\n",
    "l=d.values()\n",
    "x = []\n",
    "for i in l:\n",
    "    if i == list or tuple or set:\n",
    "        for j in i:\n",
    "            if j in x:\n",
    "                continue\n",
    "            else:\n",
    "                x.append(j)\n",
    "    else:\n",
    "        x.append(i)\n",
    "print(x)"
   ]
  },
  {
   "cell_type": "code",
   "execution_count": 23,
   "id": "c68ce250",
   "metadata": {},
   "outputs": [
    {
     "name": "stdout",
     "output_type": "stream",
     "text": [
      "90\n"
     ]
    }
   ],
   "source": [
    "# Write a Python program to find the sum of all items in a dictionary?\n",
    "\n",
    "d1={'a':20,'b':30,'c':40}\n",
    "sum = 0\n",
    "for i in d1.values():\n",
    "    sum = sum + i\n",
    "print(sum)"
   ]
  },
  {
   "cell_type": "code",
   "execution_count": 26,
   "id": "c242a521",
   "metadata": {},
   "outputs": [
    {
     "name": "stdout",
     "output_type": "stream",
     "text": [
      "{'Name': 'Jarvis', 'Id': 245, 'Email': 'xyz@gmail.com', 'subject': 'Data science', 'company': 'ineuron', 'city': 'Bangalore'}\n"
     ]
    }
   ],
   "source": [
    "# Write a Python program to Merging two Dictionaries?\n",
    "\n",
    "d1 = {'Name':'Jarvis','Id':245,'Email':'xyz@gmail.com'}\n",
    "d2 = {'subject':'Data science','company':'ineuron','city':'Bangalore'}  \n",
    "d1.update(d2) # using update function for merging\n",
    "print(d1)"
   ]
  },
  {
   "cell_type": "code",
   "execution_count": 28,
   "id": "d7f074c0",
   "metadata": {},
   "outputs": [
    {
     "name": "stdout",
     "output_type": "stream",
     "text": [
      "The dictionary is : \n",
      "{'month_num': [1, 2, 3, 4, 5, 6], 'name_of_month': ['Jan', 'Feb', 'March', 'Apr', 'May', 'June']}\n",
      "The flattened dictionary is: \n",
      "{1: 'Jan', 2: 'Feb', 3: 'March', 4: 'Apr', 5: 'May', 6: 'June'}\n"
     ]
    }
   ],
   "source": [
    "# Write a Python program to convert key-values list to flat dictionary?\n",
    "\n",
    "from itertools import product\n",
    "\n",
    "my_dict = {'month_num' : [1, 2, 3, 4, 5, 6], 'name_of_month' : ['Jan', 'Feb', 'March', 'Apr', 'May', 'June']}\n",
    "\n",
    "print(\"The dictionary is : \")\n",
    "print(my_dict)\n",
    "\n",
    "my_result = dict(zip(my_dict['month_num'], my_dict['name_of_month']))\n",
    "\n",
    "print(\"The flattened dictionary is: \")\n",
    "print(my_result)"
   ]
  },
  {
   "cell_type": "code",
   "execution_count": 67,
   "id": "388cc41d",
   "metadata": {},
   "outputs": [
    {
     "name": "stdout",
     "output_type": "stream",
     "text": [
      "The dictionary is :\n",
      "OrderedDict([('Virat', '8'), ('Dhoni', '2'), ('Rohit', '4')])\n",
      "The resultant dictionary is : \n",
      "OrderedDict([('rahul', '3'), ('Virat', '8'), ('Dhoni', '2'), ('Rohit', '4')])\n"
     ]
    }
   ],
   "source": [
    "# Write a Python program to insertion at the beginning in OrderedDict?\n",
    "\n",
    "from collections import OrderedDict\n",
    "\n",
    "my_ordered_dict = OrderedDict([('Virat', '8'), ('Dhoni', '2'), ('Rohit', '4')])\n",
    "print(\"The dictionary is :\")\n",
    "print(my_ordered_dict)\n",
    "my_ordered_dict.update({'rahul':'3'})\n",
    "my_ordered_dict.move_to_end('rahul', last = False)# using move_to_end function to add dict item at start by mentioning last =False\n",
    "\n",
    "print(\"The resultant dictionary is : \")\n",
    "print(my_ordered_dict)"
   ]
  },
  {
   "cell_type": "code",
   "execution_count": 35,
   "id": "8a742d76",
   "metadata": {},
   "outputs": [],
   "source": [
    "# Write a Python program to check order of character in string using OrderedDict()?\n",
    "\n",
    "from collections import OrderedDict\n",
    "def order(myinput,pattern):\n",
    "    d1=OrderedDict.fromkeys(myinput)\n",
    "    length = 0\n",
    "    for key,value in d1.items():\n",
    "        if key == pattern[length]:\n",
    "            length = length+1\n",
    "        if length == len(pattern):\n",
    "            return \"order of character is correct\"\n",
    "        else:\n",
    "            return \"order of character is not correct\"\n",
    "order(\"harsha\",\"ha\")      "
   ]
  },
  {
   "cell_type": "code",
   "execution_count": null,
   "id": "62981b6b",
   "metadata": {},
   "outputs": [],
   "source": [
    "# Write a Python program to sort Python Dictionaries by Key or Value?\n",
    "d4={}\n",
    "d4[2]=34\n",
    "d4[1]=55\n",
    "d4[7]=66\n",
    "d4[6]=89\n",
    "d4[3]=45\n",
    "sorted(d4.items())"
   ]
  },
  {
   "cell_type": "code",
   "execution_count": null,
   "id": "1a50fb08",
   "metadata": {},
   "outputs": [],
   "source": []
  },
  {
   "cell_type": "code",
   "execution_count": null,
   "id": "66fbb036",
   "metadata": {},
   "outputs": [],
   "source": []
  }
 ],
 "metadata": {
  "kernelspec": {
   "display_name": "Python 3",
   "language": "python",
   "name": "python3"
  },
  "language_info": {
   "codemirror_mode": {
    "name": "ipython",
    "version": 3
   },
   "file_extension": ".py",
   "mimetype": "text/x-python",
   "name": "python",
   "nbconvert_exporter": "python",
   "pygments_lexer": "ipython3",
   "version": "3.8.8"
  }
 },
 "nbformat": 4,
 "nbformat_minor": 5
}
