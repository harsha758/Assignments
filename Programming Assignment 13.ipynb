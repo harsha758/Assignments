{
 "cells": [
  {
   "cell_type": "markdown",
   "id": "c69b8e63",
   "metadata": {},
   "source": [
    "Question 1:\n",
    "Write a program that calculates and prints the value according to the given formula:\n",
    "Q = Square root of [(2 * C * D)/H]\n",
    "Following are the fixed values of C and H:\n",
    "C is 50. H is 30.\n",
    "D is the variable whose values should be input to your program in a comma-separated\n",
    "sequence.\n",
    "Example\n",
    "Let us assume the following comma separated input sequence is given to the program:\n",
    "100,150,180\n",
    "The output of the program should be:\n",
    "18,22,24"
   ]
  },
  {
   "cell_type": "code",
   "execution_count": null,
   "id": "6cab5ce8",
   "metadata": {},
   "outputs": [],
   "source": [
    "import math\n",
    "c=50\n",
    "h=30\n",
    "l = []\n",
    "items=[x for x in  input().split(',')]\n",
    "for d in items:\n",
    "    l.append(str(int(math.sqrt(2*c*float(d)/h))))\n",
    "\n",
    "print(','.join(l))"
   ]
  },
  {
   "cell_type": "markdown",
   "id": "bf6d77aa",
   "metadata": {},
   "source": [
    "Question 2:\n",
    "Write a program which takes 2 digits, X,Y as input and generates a 2-dimensional array. The element value in the i-th row and j-th column of the array should be i*j.\n",
    "\n",
    "Note: i=0,1.., X-1; j=0,1,¡¬Y-1.\n",
    "\n",
    "Example\n",
    "\n",
    "Suppose the following inputs are given to the program:\n",
    "\n",
    "3,5\n",
    "\n",
    "Then, the output of the program should be:\n",
    "\n",
    "[[0, 0, 0, 0, 0], [0, 1, 2, 3, 4], [0, 2, 4, 6, 8]] \n"
   ]
  },
  {
   "cell_type": "code",
   "execution_count": null,
   "id": "8f7fa1b8",
   "metadata": {},
   "outputs": [],
   "source": [
    "dim = [int(x) for x in input().split(',')]\n",
    "row = dim[0]\n",
    "col = dim[1]\n",
    "list = [[0 for c in range(col)] for r in range(row)]\n",
    "\n",
    "for r in range(row):\n",
    "    for c in range(col):\n",
    "        list[r][c] = r*c\n",
    "print(list)"
   ]
  },
  {
   "cell_type": "markdown",
   "id": "b55d357c",
   "metadata": {},
   "source": [
    "Question 3:\n",
    "Write a program that accepts a comma separated sequence of words as input and prints the\n",
    "words in a comma-separated sequence after sorting them alphabetically.\n",
    "Suppose the following input is supplied to the program:\n",
    "without,hello,bag,world\n",
    "Then, the output should be:\n",
    "bag,hello,without,world"
   ]
  },
  {
   "cell_type": "code",
   "execution_count": null,
   "id": "45104bcc",
   "metadata": {},
   "outputs": [],
   "source": [
    "words = [i for i in input().split(',')]\n",
    "words.sort()\n",
    "print(','.join(words))"
   ]
  },
  {
   "cell_type": "markdown",
   "id": "c633fa36",
   "metadata": {},
   "source": [
    "Question 4:\n",
    "Write a program that accepts a sequence of whitespace separated words as input and prints\n",
    "the words after removing all duplicate words and sorting them alphanumerically.\n",
    "Suppose the following input is supplied to the program:\n",
    "hello world and practice makes perfect and hello world again\n",
    "Then, the output should be:\n",
    "again and hello makes perfect practice world"
   ]
  },
  {
   "cell_type": "code",
   "execution_count": null,
   "id": "9fc18d4b",
   "metadata": {},
   "outputs": [],
   "source": [
    "words1= [i for i in input().split(' ')]\n",
    "l=[]\n",
    "for i in words1:\n",
    "    if i in l:\n",
    "        continue\n",
    "    else:\n",
    "        l.append(i)\n",
    "l.sort()\n",
    "print(' '.join(l))  "
   ]
  },
  {
   "cell_type": "markdown",
   "id": "eb0111d3",
   "metadata": {},
   "source": [
    "Question 5:\n",
    "Write a program that accepts a sentence and calculate the number of letters and digits.\n",
    "Suppose the following input is supplied to the program:\n",
    "hello world! 123\n",
    "Then, the output should be:\n",
    "LETTERS 10\n",
    "DIGITS 3"
   ]
  },
  {
   "cell_type": "code",
   "execution_count": null,
   "id": "75afb8de",
   "metadata": {},
   "outputs": [],
   "source": [
    "s = input(\"please enter any sentence\")\n",
    "letter=0\n",
    "digit=0\n",
    "for i in s:\n",
    "    if i.isalpha():\n",
    "        letter = letter+1\n",
    "    elif i.isnumeric():\n",
    "        digit = digit+1\n",
    "print(\"Letters\",letter)\n",
    "print(\"digits\",digit)"
   ]
  },
  {
   "cell_type": "markdown",
   "id": "b8479f78",
   "metadata": {},
   "source": [
    "Question 6:\n",
    "A website requires the users to input username and password to register. Write a program to\n",
    "check the validity of password input by users.\n",
    "Following are the criteria for checking the password:\n",
    "1. At least 1 letter between [a-z]\n",
    "2. At least 1 number between [0-9]\n",
    "1. At least 1 letter between [A-Z]\n",
    "3. At least 1 character from [$#@]\n",
    "4. Minimum length of transaction password: 6\n",
    "5. Maximum length of transaction password: 12\n",
    "Your program should accept a sequence of comma separated passwords and will check them\n",
    "according to the above criteria. Passwords that match the criteria are to be printed, each\n",
    "separated by a comma.\n",
    "Example\n",
    "If the following passwords are given as input to the program:\n",
    "ABd1234@1,a F1#,2w3E*,2We3345\n",
    "Then, the output of the program should be:\n",
    "ABd1234@1"
   ]
  },
  {
   "cell_type": "code",
   "execution_count": null,
   "id": "50a6b072",
   "metadata": {},
   "outputs": [],
   "source": [
    "import re\n",
    "l=[]\n",
    "password = [i for i in input().split(',')]\n",
    "for j in password:\n",
    "    if len(j)<6 or len(j)>12:\n",
    "        continue\n",
    "    else:\n",
    "        pass\n",
    "    if not re.search(\"[a-z]\",j):\n",
    "        continue\n",
    "    elif not re.search(\"[0-9]\",j):\n",
    "        continue\n",
    "    elif not re.search(\"[A-Z]\",j):\n",
    "        continue\n",
    "    elif not re.search(\"[$#@]\",j):\n",
    "        continue\n",
    "    elif re.search(\"\\s\",j):\n",
    "        continue\n",
    "    else:\n",
    "        \n",
    "        l.append(j)\n",
    "print(','.join(l))"
   ]
  },
  {
   "cell_type": "code",
   "execution_count": 26,
   "id": "13420bc0",
   "metadata": {},
   "outputs": [],
   "source": []
  },
  {
   "cell_type": "code",
   "execution_count": null,
   "id": "837743a2",
   "metadata": {},
   "outputs": [],
   "source": []
  }
 ],
 "metadata": {
  "kernelspec": {
   "display_name": "Python 3",
   "language": "python",
   "name": "python3"
  },
  "language_info": {
   "codemirror_mode": {
    "name": "ipython",
    "version": 3
   },
   "file_extension": ".py",
   "mimetype": "text/x-python",
   "name": "python",
   "nbconvert_exporter": "python",
   "pygments_lexer": "ipython3",
   "version": "3.8.8"
  }
 },
 "nbformat": 4,
 "nbformat_minor": 5
}
