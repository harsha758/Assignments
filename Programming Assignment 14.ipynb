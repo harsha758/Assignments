{
 "cells": [
  {
   "cell_type": "markdown",
   "id": "7c3b724d",
   "metadata": {},
   "source": [
    "Question 1:\n",
    "Define a class with a generator which can iterate the numbers, which are divisible by 7, between a given range 0 and n."
   ]
  },
  {
   "cell_type": "code",
   "execution_count": null,
   "id": "9ae77abe",
   "metadata": {},
   "outputs": [],
   "source": [
    "class generator:\n",
    "    \n",
    "    def __init__(self):\n",
    "        self.n = int(input())\n",
    "        \n",
    "    def divby7(self):\n",
    "        for i in range(self.n):\n",
    "            if i%7 == 0:\n",
    "                yield i\n",
    "\n",
    "x = generator()\n",
    "\n",
    "l = []\n",
    "for i in x.divby7():\n",
    "    l.append(i)"
   ]
  },
  {
   "cell_type": "markdown",
   "id": "9d75f642",
   "metadata": {},
   "source": [
    "\n",
    "Write a program to compute the frequency of the words from the input. The output\n",
    "should output after sorting the key alphanumerically.\n",
    "Suppose the following input is supplied to the program:\n",
    "New to Python or choosing between Python 2 and Python 3? Read Python 2 or\n",
    "Python 3.\n",
    "Then, the output should be:\n",
    "2:2\n",
    "3.:1\n",
    "3?:1\n",
    "New:1\n",
    "Python:5\n",
    "Read:1\n",
    "and:1\n",
    "between:1\n",
    "choosing:1\n",
    "or:2\n",
    "to:1\n"
   ]
  },
  {
   "cell_type": "code",
   "execution_count": null,
   "id": "5ab4decc",
   "metadata": {},
   "outputs": [],
   "source": [
    "try:\n",
    "    user_input = input().split(' ')\n",
    "    dict_1 = {}\n",
    "    \n",
    "    for i in user_input:\n",
    "        if i not in dict_1:\n",
    "            dict_1[i] = 1\n",
    "        elif i in dict_1:\n",
    "            dict_1[i] = dict_1[i] + 1\n",
    "        else:\n",
    "            pass\n",
    "    sorted_dict = sorted(dict_1.items())\n",
    "    print(sorted_dict)\n",
    "\n",
    "    for i in sorted_dict:\n",
    "        print(i[0],\":\",i[1])\n",
    "except Exception as e:\n",
    "    print(e)\n"
   ]
  },
  {
   "cell_type": "code",
   "execution_count": null,
   "id": "96cb0a73",
   "metadata": {},
   "outputs": [],
   "source": [
    "Question 3:\n",
    "\n",
    "Define a class Person and its two child classes: Male and Female. All classes have a\n",
    "method getGender which can print Male; for Male class and Female  for Female\n",
    "class."
   ]
  },
  {
   "cell_type": "code",
   "execution_count": 66,
   "id": "54f02d74",
   "metadata": {},
   "outputs": [],
   "source": [
    "class person:\n",
    "    def getGender(self):\n",
    "        return \" go to child classes\"\n",
    "class Male(person):\n",
    "    def getGender(self):\n",
    "        return \"Male\"\n",
    "class Female(Male):\n",
    "    def getGender(self):\n",
    "        return \"Female\"\n",
    "m = Male()\n",
    "f = Female()"
   ]
  },
  {
   "cell_type": "markdown",
   "id": "124d9123",
   "metadata": {},
   "source": [
    "Question 4:\n",
    "Please write a program to generate all sentences where subject is in [\"I\", \"You\"] and verb is in [\"Play\", \"Love\"] and the object is in [\"Hockey\",\"Football\"].\n"
   ]
  },
  {
   "cell_type": "code",
   "execution_count": null,
   "id": "bb2a1878",
   "metadata": {},
   "outputs": [],
   "source": [
    "def gensentence():\n",
    "    sub = ['I','You']\n",
    "    verb = ['play','love']\n",
    "    obj = ['hockey','football']\n",
    "    for i in sub:\n",
    "        for j in verb:\n",
    "            for k in obj:\n",
    "                print(i + ' '+ j + ' '+ k)\n",
    "gensentence()"
   ]
  },
  {
   "cell_type": "markdown",
   "id": "bd43b7ff",
   "metadata": {},
   "source": [
    "Question 5:\n",
    "Please write a program to compress and decompress the string \"hello world!hello world!hello world!hello world!\".\n"
   ]
  },
  {
   "cell_type": "code",
   "execution_count": null,
   "id": "50c25670",
   "metadata": {},
   "outputs": [],
   "source": [
    "import zlib\n",
    "\n",
    "s = 'hello world!hello world!hello world!hello world!'\n",
    "y = bytes(s, 'utf-8')\n",
    "x = zlib.compress(y)\n",
    "z = zlib.decompress(x)\n",
    "print(x)\n",
    "print(z)"
   ]
  },
  {
   "cell_type": "markdown",
   "id": "22733105",
   "metadata": {},
   "source": [
    "Question 6:\n",
    "Please write a binary search function which searches an item in a sorted list. The function should return the index of element to be searched in the list.\n"
   ]
  },
  {
   "cell_type": "code",
   "execution_count": null,
   "id": "bbb8091d",
   "metadata": {},
   "outputs": [],
   "source": [
    "def binarysearch(a,x):\n",
    "    a.sort()\n",
    "    low = 0\n",
    "    high = len(a)-1\n",
    "    mid = 0\n",
    "    while low <= high:\n",
    "        mid = (low+high)//2\n",
    "        if a[mid] < x:\n",
    "            low = mid+1\n",
    "        elif a[mid] > x:\n",
    "            high = mid-1\n",
    "        else:\n",
    "            return mid\n",
    "res = binarysearch([2,5,6,7,8,9,1],1)"
   ]
  }
 ],
 "metadata": {
  "kernelspec": {
   "display_name": "Python 3",
   "language": "python",
   "name": "python3"
  },
  "language_info": {
   "codemirror_mode": {
    "name": "ipython",
    "version": 3
   },
   "file_extension": ".py",
   "mimetype": "text/x-python",
   "name": "python",
   "nbconvert_exporter": "python",
   "pygments_lexer": "ipython3",
   "version": "3.8.8"
  }
 },
 "nbformat": 4,
 "nbformat_minor": 5
}
