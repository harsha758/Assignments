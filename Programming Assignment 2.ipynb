{
 "cells": [
  {
   "cell_type": "code",
   "execution_count": null,
   "id": "6cc177ac",
   "metadata": {},
   "outputs": [],
   "source": [
    "1.\tWrite a Python program to convert kilometers to miles?\n",
    "   #1 km = 0.6213711922 mi\n",
    "k= float(input(\"please enter kilometers\"))\n",
    "cf= 0.6213711922\n",
    "miles=cf*k\n",
    "print(\"{} km is equal to {} miles\".format(k,miles))"
   ]
  },
  {
   "cell_type": "code",
   "execution_count": null,
   "id": "395e5aae",
   "metadata": {},
   "outputs": [],
   "source": [
    "2.\tWrite a Python program to convert Celsius to Fahrenheit?\n",
    "#F=9/5*(c+32) c=celsius F=Fahrenheit\n",
    "c = float(input(\"please enter the temperature\"))\n",
    "Fah =(9/5)*c+32\n",
    "print(\"Temperature in Fahrenheit is \",Fah)"
   ]
  },
  {
   "cell_type": "code",
   "execution_count": null,
   "id": "ebb60a3f",
   "metadata": {},
   "outputs": [],
   "source": [
    "3.\tWrite a Python program to display calendar?\n",
    "import calendar\n",
    "year = int(input(\"please enter year to display calender\"))\n",
    "print(calendar.calendar(year))"
   ]
  },
  {
   "cell_type": "code",
   "execution_count": null,
   "id": "5e428050",
   "metadata": {},
   "outputs": [],
   "source": [
    "4.\tWrite a Python program to solve quadratic equation?\n",
    "import math\n",
    "import cmath\n",
    "a =int(input(\"please enter a\"))\n",
    "b =int(input(\" please enter b\"))\n",
    "c =int(input(\"please enter c\"))\n",
    "x=b*2-(4*a*c)\n",
    "if x == 0:\n",
    "    x1 = -b+math.sqrt(x)/2*a\n",
    "    print(\"The roots of the equation are one real\",x1)\n",
    "elif x < 0:\n",
    "    x1 = -b+cmath.sqrt(x)/2*a\n",
    "    x2 = -b-cmath.sqrt(x)/2*a\n",
    "    print(\"The roots of the equation are complex\",x1,x2)\n",
    "else:\n",
    "    x1 = -b+math.sqrt(x)/2*a\n",
    "    x2 = -b-math.sqrt(x)/2*a\n",
    "    print(\"The roots of the equation are two real\",x1,x2)"
   ]
  },
  {
   "cell_type": "code",
   "execution_count": null,
   "id": "395761fe",
   "metadata": {},
   "outputs": [],
   "source": [
    "5.\tWrite a Python program to swap two variables without temp variable?\n",
    "\n",
    "a =1\n",
    "b =2\n",
    "a,b = b,a\n"
   ]
  }
 ],
 "metadata": {
  "kernelspec": {
   "display_name": "Python 3",
   "language": "python",
   "name": "python3"
  }
 },
 "nbformat": 4,
 "nbformat_minor": 5
}
