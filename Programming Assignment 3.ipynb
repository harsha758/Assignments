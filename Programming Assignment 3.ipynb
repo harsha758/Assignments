{
 "cells": [
  {
   "cell_type": "code",
   "execution_count": null,
   "id": "f45fe9dc",
   "metadata": {},
   "outputs": [],
   "source": [
    "1.\tWrite a Python Program to Check if a Number is Positive, Negative or Zero?\n",
    "\n",
    "def num(n):\n",
    "    \"\"\" This function is used to define whether the number is positive or negative or Zero\"\"\"\n",
    "    if n < 0:\n",
    "        return \"Number is Negative\"\n",
    "    elif n > 0 :\n",
    "        return \"Number is positive\"\n",
    "    else:\n",
    "        return \"Number is Zero\"\n",
    "num(-88)# calling the function"
   ]
  },
  {
   "cell_type": "code",
   "execution_count": null,
   "id": "07b3acd5",
   "metadata": {},
   "outputs": [],
   "source": [
    "2.\tWrite a Python Program to Check if a Number is Odd or Even?\n",
    "\n",
    "def evenodd(n):\n",
    "    \"\"\" This function is used to define whether the number is odd or even\"\"\"\n",
    "    if n%2 == 0:\n",
    "        return 'number is even'\n",
    "    else:\n",
    "        return 'number is odd'\n",
    "evenodd(3)"
   ]
  },
  {
   "cell_type": "code",
   "execution_count": 16,
   "id": "42930903",
   "metadata": {},
   "outputs": [],
   "source": [
    "3.\tWrite a Python Program to Check Leap Year?\n",
    "\n",
    " def leapyear(n):\n",
    "        if ((n%400 == 0) and (n%100!=0)) or (n%4 == 0):\n",
    "            return \"It is a Leap Year\"\n",
    "        else:\n",
    "            return \" It is not a Leap Year\"\n",
    "leapyear(2028)"
   ]
  },
  {
   "cell_type": "code",
   "execution_count": 30,
   "id": "22372ba6",
   "metadata": {},
   "outputs": [],
   "source": [
    "4.\tWrite a Python Program to Check Prime Number?\n",
    "\n",
    "def prime(n):\n",
    "    \"This function is used to define whether the number is prime number or not\"\n",
    "    flag = False\n",
    "    for i in range(2,n):\n",
    "        if n%i == 0:\n",
    "            flag = True\n",
    "            break\n",
    "    if flag:\n",
    "        return \"Numner is not a prime\"\n",
    "    else:\n",
    "        return \"Number is prime\"\n",
    "prime(5)"
   ]
  },
  {
   "cell_type": "code",
   "execution_count": 48,
   "id": "bd53ef99",
   "metadata": {},
   "outputs": [],
   "source": [
    "5.\tWrite a Python Program to Print all Prime Numbers in an Interval of 1-10000?\n",
    "def prime1(x,y):\n",
    "    \"\"\" This function gives prime number in given range\"\"\"\n",
    "    for num in range(x,y+1):\n",
    "        if num >1:\n",
    "            count = 0\n",
    "            for i in range(2,num):\n",
    "                if num%i == 0:\n",
    "                    count=count+1\n",
    "                    break\n",
    "            if count == 0:\n",
    "                print(num)\n",
    "prime1(5,100)"
   ]
  }
 ],
 "metadata": {
  "kernelspec": {
   "display_name": "Python 3",
   "language": "python",
   "name": "python3"
  },
  "language_info": {
   "codemirror_mode": {
    "name": "ipython",
    "version": 3
   },
   "file_extension": ".py",
   "mimetype": "text/x-python",
   "name": "python",
   "nbconvert_exporter": "python",
   "pygments_lexer": "ipython3",
   "version": "3.8.8"
  }
 },
 "nbformat": 4,
 "nbformat_minor": 5
}
