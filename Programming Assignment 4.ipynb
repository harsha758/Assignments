{
 "cells": [
  {
   "cell_type": "code",
   "execution_count": null,
   "id": "6b8eac0c",
   "metadata": {},
   "outputs": [],
   "source": [
    "1.\tWrite a Python Program to Find the Factorial of a Number?\n",
    "\n",
    "def factorial(n):\n",
    "    \"\"\" This function returns factorial of a given number\"\"\"\n",
    "    if n == 0:\n",
    "        return 1\n",
    "    return n * factorial(n-1)\n",
    "factorial(4)"
   ]
  },
  {
   "cell_type": "code",
   "execution_count": null,
   "id": "e037845d",
   "metadata": {},
   "outputs": [],
   "source": [
    "2.\tWrite a Python Program to Display the multiplication Table?\n",
    "\n",
    "def mul(n,r):\n",
    "    \" This function gives multiplication table for given number in given range\"\n",
    "    for i in range(1,r+1):\n",
    "        print(n,\"*\" ,i ,'=' ,n*i)\n",
    "mul(5,10)"
   ]
  },
  {
   "cell_type": "code",
   "execution_count": null,
   "id": "12b12f8d",
   "metadata": {},
   "outputs": [],
   "source": [
    "3.\tWrite a Python Program to Print the Fibonacci sequence?\n",
    "\n",
    "def fibonacci(n):\n",
    "    \" This function gives fibonacci series of a given number\"\n",
    "    first = 0\n",
    "    second = 1\n",
    "    for i in range(n):\n",
    "        print(first)\n",
    "        temp = first\n",
    "        first = second\n",
    "        second = temp+second\n",
    "fibonacci(5)"
   ]
  },
  {
   "cell_type": "code",
   "execution_count": null,
   "id": "a79efcd2",
   "metadata": {},
   "outputs": [],
   "source": [
    "4.\tWrite a Python Program to Check Armstrong Number?\n",
    "\n",
    "def armstrong(num):\n",
    "    \"\"\"This function tells whether given number is a Armstrong number or not\"\"\"\n",
    "    temp = num\n",
    "    s = 0\n",
    "    while(num>0):\n",
    "        r = num%10\n",
    "        s = s + (r*r*r)\n",
    "        num = num//10\n",
    "    if temp == s:\n",
    "        print(temp,\"is a armstrong number\")\n",
    "    else:\n",
    "        print(temp,\"is not a armstrong number\")\n",
    "armstrong(438)"
   ]
  },
  {
   "cell_type": "code",
   "execution_count": null,
   "id": "d8206616",
   "metadata": {},
   "outputs": [],
   "source": [
    "5.\tWrite a Python Program to Find Armstrong Number in an Interval?\n",
    "def armstrong1(num):\n",
    "    \" This function gives armstrong numbers in a given range\"\n",
    "    for i in range(1,num):\n",
    "        temp = i\n",
    "        s = 0\n",
    "        while(i>0):\n",
    "            r = i%10\n",
    "            s = s + (r*r*r)\n",
    "            i = i//10\n",
    "        if temp == s:\n",
    "            print(temp,\"is a armstrong number\")\n",
    "        else:\n",
    "            print(temp,\"is not a armstrong number\")\n",
    "armstrong1(50)"
   ]
  },
  {
   "cell_type": "code",
   "execution_count": null,
   "id": "bad694d9",
   "metadata": {},
   "outputs": [],
   "source": [
    "6.\tWrite a Python Program to Find the Sum of Natural Numbers?\n",
    "\n",
    "def nat(n):\n",
    "    \"\"\" This function gives sum of natural numbers in a given range\"\"\"\n",
    "    sum = 0\n",
    "    for i in range(1,n+1):\n",
    "        sum = sum+i\n",
    "    print(sum)\n",
    "nat(20)"
   ]
  }
 ],
 "metadata": {
  "kernelspec": {
   "display_name": "Python 3",
   "language": "python",
   "name": "python3"
  },
  "language_info": {
   "codemirror_mode": {
    "name": "ipython",
    "version": 3
   },
   "file_extension": ".py",
   "mimetype": "text/x-python",
   "name": "python",
   "nbconvert_exporter": "python",
   "pygments_lexer": "ipython3",
   "version": "3.8.8"
  }
 },
 "nbformat": 4,
 "nbformat_minor": 5
}
