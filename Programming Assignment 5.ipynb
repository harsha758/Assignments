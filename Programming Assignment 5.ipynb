{
 "cells": [
  {
   "cell_type": "code",
   "execution_count": null,
   "id": "d43226ad",
   "metadata": {},
   "outputs": [],
   "source": [
    "1.\tWrite a Python Program to Find LCM?\n",
    "\n",
    "def lcm(n1,n2):\n",
    "    \"This function finds LCM of 2 numbers\"\n",
    "    if n1 > n2 :\n",
    "        higher = n1\n",
    "    else:\n",
    "        higher = n2\n",
    "    value = higher\n",
    "    while(True):\n",
    "        if higher%n1==0 and higher%n2==0:\n",
    "            print(higher)\n",
    "            break\n",
    "        else:\n",
    "            higher = higher+value"
   ]
  },
  {
   "cell_type": "code",
   "execution_count": 3,
   "id": "7a5349c7",
   "metadata": {},
   "outputs": [],
   "source": [
    "2.\tWrite a Python Program to Find HCF?\n",
    "\n",
    "def gcd(a,b):\n",
    "    \"This function givs GCD of 2 given values\"\n",
    "    if b == 0:\n",
    "        return a\n",
    "    else:\n",
    "        return gcd(b,a%b)\n"
   ]
  },
  {
   "cell_type": "code",
   "execution_count": 7,
   "id": "42be9611",
   "metadata": {},
   "outputs": [],
   "source": [
    "3.\tWrite a Python Program to Convert Decimal to Binary, Octal and Hexadecimal?\n",
    "\n",
    "#Decimal to binary\n",
    "def debi(n):\n",
    "    if n>=1:\n",
    "        debi(n//2)\n",
    "        print(n%2)\n",
    "        \n",
    "# Decimal to Octal\n",
    "\n",
    "n=int(input(\"enter a number\"))\n",
    "print(oct(n))\n",
    "\n",
    "\"or\"\n",
    "def octa(n):\n",
    "    if n>0:\n",
    "        octa(n//8)\n",
    "        print(n%8,end='')\n",
    "\n",
    "# Decimal to Hexadecimal\n",
    "\n",
    "n=int(input(\"enter a number\"))\n",
    "print(hex(n))\n",
    "\n",
    "\"or\"\n",
    "\n",
    "table = ['0', '1', '2', '3', '4', '5', '6', '7', '8', '9', 'A' , 'B', 'C', 'D', 'E', 'F']\n",
    "\n",
    "def decimal(n):\n",
    "    hexa =''\n",
    "    while(n>0):\n",
    "        rem=n%16\n",
    "        hexa=table[rem]+hexa\n",
    "        n=n//16\n",
    "    print(hexa) "
   ]
  },
  {
   "cell_type": "code",
   "execution_count": null,
   "id": "4edf6b06",
   "metadata": {},
   "outputs": [],
   "source": [
    "4.\tWrite a Python Program To Find ASCII value of a character?\n",
    "\n",
    "ch=input(\"please enter a character\")\n",
    "\n",
    "print(\"The ASCII value of given character is\",ord(ch))"
   ]
  },
  {
   "cell_type": "code",
   "execution_count": null,
   "id": "0e07b9b2",
   "metadata": {},
   "outputs": [],
   "source": [
    "5.\tWrite a Python Program to Make a Simple Calculator with 4 basic mathematical operations?\n",
    "option=input(\"please enter option 1: Addition 2: subtraction 3 : Division 4 : Multiplication\")\n",
    "value1 = int(input(\"please enter first value\"))\n",
    "value2 = int(input(\"please enter second value\"))\n",
    "\n",
    "if option == '1':\n",
    "    print(value1+value2)\n",
    "elif option == '2':\n",
    "    print(value1-value2)\n",
    "elif option == '3':\n",
    "    print(value1/value2)\n",
    "elif option == '4':\n",
    "    print(value1*value2)\n",
    "else:\n",
    "    print(\"Invalid Input\")"
   ]
  }
 ],
 "metadata": {
  "kernelspec": {
   "display_name": "Python 3",
   "language": "python",
   "name": "python3"
  },
  "language_info": {
   "codemirror_mode": {
    "name": "ipython",
    "version": 3
   },
   "file_extension": ".py",
   "mimetype": "text/x-python",
   "name": "python",
   "nbconvert_exporter": "python",
   "pygments_lexer": "ipython3",
   "version": "3.8.8"
  }
 },
 "nbformat": 4,
 "nbformat_minor": 5
}
