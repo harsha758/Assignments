{
 "cells": [
  {
   "cell_type": "code",
   "execution_count": null,
   "id": "da009359",
   "metadata": {},
   "outputs": [],
   "source": [
    "1.\tWrite a Python Program to Display Fibonacci Sequence Using Recursion?\n",
    "\n",
    "def fibonaci(n):\n",
    "    if n<=1:\n",
    "        return n\n",
    "    else:\n",
    "        return fibonaci(n-1)+fibonaci(n-2)\n",
    "for i in range(10):\n",
    "    print(fibonaci(i))"
   ]
  },
  {
   "cell_type": "code",
   "execution_count": null,
   "id": "b6b9c535",
   "metadata": {},
   "outputs": [],
   "source": [
    "2.\tWrite a Python Program to Find Factorial of Number Using Recursion?\n",
    "\n",
    "def factorial(n):\n",
    "    \"\"\" This function returns factorial of a given number\"\"\"\n",
    "    if n == 0:\n",
    "        return 1\n",
    "    return n * factorial(n-1)\n",
    "factorial(4)"
   ]
  },
  {
   "cell_type": "code",
   "execution_count": null,
   "id": "979af8e1",
   "metadata": {},
   "outputs": [],
   "source": [
    "3.\tWrite a Python Program to calculate your Body Mass Index?\n",
    "\n",
    "height = int(input(\"enter height in cm\"))\n",
    "weight = int(input(\"enter weight in kg\"))\n",
    "\n",
    "h = height/100  # converting height in to meters\n",
    "\n",
    "BMI=weight/(h*h)"
   ]
  },
  {
   "cell_type": "code",
   "execution_count": null,
   "id": "06b1d113",
   "metadata": {},
   "outputs": [],
   "source": [
    "4.\tWrite a Python Program to calculate the natural logarithm of any number?\n",
    "\n",
    "import math\n",
    "\n",
    "math.log(34)"
   ]
  },
  {
   "cell_type": "code",
   "execution_count": null,
   "id": "6e65aae1",
   "metadata": {},
   "outputs": [],
   "source": [
    "5.\tWrite a Python Program for cube sum of first n natural numbers?\n",
    "\n",
    "sum = 0\n",
    "n=int(input(\"plese enter range\"))\n",
    "for i in range(1,n):\n",
    "    sum = sum + i\n",
    "print(sum*sum*sum)"
   ]
  }
 ],
 "metadata": {
  "kernelspec": {
   "display_name": "Python 3",
   "language": "python",
   "name": "python3"
  },
  "language_info": {
   "codemirror_mode": {
    "name": "ipython",
    "version": 3
   },
   "file_extension": ".py",
   "mimetype": "text/x-python",
   "name": "python",
   "nbconvert_exporter": "python",
   "pygments_lexer": "ipython3",
   "version": "3.8.8"
  }
 },
 "nbformat": 4,
 "nbformat_minor": 5
}
