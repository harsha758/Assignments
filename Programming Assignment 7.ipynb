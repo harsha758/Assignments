{
 "cells": [
  {
   "cell_type": "code",
   "execution_count": null,
   "id": "fd266e51",
   "metadata": {},
   "outputs": [],
   "source": [
    "# Write a Python Program to find sum of array?\n",
    "import numpy as np\n",
    "l1=[1,2,3,4,5]\n",
    "l2=[6,7,8,9,10]\n",
    "arr1=np.array([l1,l2])\n",
    "arr1.sum()"
   ]
  },
  {
   "cell_type": "code",
   "execution_count": null,
   "id": "a63e7361",
   "metadata": {},
   "outputs": [],
   "source": [
    "# Write a Python Program to find largest element in an array?\n",
    "arr2=np.arange(12).reshape(4,3)\n",
    "arr2.max()"
   ]
  },
  {
   "cell_type": "code",
   "execution_count": null,
   "id": "bbc84f5d",
   "metadata": {},
   "outputs": [],
   "source": [
    "# Write a Python Program for array rotation?\n",
    "arr3=np.arange(15).reshape(5,3)\n",
    "np.roll(arr3,1,axis=1)"
   ]
  },
  {
   "cell_type": "code",
   "execution_count": null,
   "id": "fd1fa874",
   "metadata": {},
   "outputs": [],
   "source": [
    "# Write a Python Program to Split the array and add the first part to the end?\n",
    "arr3=np.arange(15).reshape(5,3)\n",
    "l=np.split(arr3,5)\n",
    "arr4=l[0]+l[-1] # adding first part to end part"
   ]
  },
  {
   "cell_type": "code",
   "execution_count": null,
   "id": "a0095841",
   "metadata": {},
   "outputs": [],
   "source": [
    "# Write a Python Program to check if given array is Monotonic?\n",
    "def isMonotonic(arr):\n",
    "  \n",
    "    return (all(arr[i] <= arr[i + 1] for i in range(len(arr) - 1)) or\n",
    "            all(arr[i] >= arr[i + 1] for i in range(len(arr) - 1)))\n",
    "\n",
    "print(isMonotonic(arr))"
   ]
  }
 ],
 "metadata": {
  "kernelspec": {
   "display_name": "Python 3",
   "language": "python",
   "name": "python3"
  },
  "language_info": {
   "codemirror_mode": {
    "name": "ipython",
    "version": 3
   },
   "file_extension": ".py",
   "mimetype": "text/x-python",
   "name": "python",
   "nbconvert_exporter": "python",
   "pygments_lexer": "ipython3",
   "version": "3.8.8"
  }
 },
 "nbformat": 4,
 "nbformat_minor": 5
}
