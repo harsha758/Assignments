{
 "cells": [
  {
   "cell_type": "code",
   "execution_count": 1,
   "id": "d5e7f795",
   "metadata": {},
   "outputs": [],
   "source": [
    "import numpy as np"
   ]
  },
  {
   "cell_type": "code",
   "execution_count": null,
   "id": "0f480ff6",
   "metadata": {},
   "outputs": [],
   "source": [
    "#Write a Python Program to Add Two Matrices?\n",
    "l1=[1,2,3,4,5,6]\n",
    "l2=[7,8,9,10,11,12]\n",
    "m1=np.array([l1,l2]).reshape(3,4)\n",
    "m2=np.arange(12).reshape(3,4)\n",
    "a3=m1+m2\n",
    "print(\"The addition of two matrices is\",a3)"
   ]
  },
  {
   "cell_type": "code",
   "execution_count": null,
   "id": "fbfd6360",
   "metadata": {},
   "outputs": [],
   "source": [
    "# Write a Python Program to Multiply Two Matrices?\n",
    "\n",
    "A=np.arange(9).reshape(3,3)\n",
    "B=np.arange(6).reshape(3,2)\n",
    "C = A.dot(B)"
   ]
  },
  {
   "cell_type": "code",
   "execution_count": null,
   "id": "33ddbd88",
   "metadata": {},
   "outputs": [],
   "source": [
    "#Write a Python Program to Transpose a Matrix?\n",
    "\n",
    "a= np.array([[1,2,3,4,5,6],[4,5,3,2,1,8]])\n",
    "\n",
    "b = a.transpose()"
   ]
  },
  {
   "cell_type": "code",
   "execution_count": null,
   "id": "a5d21409",
   "metadata": {},
   "outputs": [],
   "source": [
    "# Write a Python Program to Sort Words in Alphabetic Order?\n",
    "\n",
    "s= input(\"please enter a string\")\n",
    "s1=s.split()\n",
    "s1.sort()"
   ]
  },
  {
   "cell_type": "code",
   "execution_count": null,
   "id": "5e37fe88",
   "metadata": {},
   "outputs": [],
   "source": [
    "# Write a Python Program to Remove Punctuation From a String?\n",
    "\n",
    "s = input(\"please enter a string\")\n",
    "s1 = [',','.',':','!','?','@','\"','/','_']\n",
    "for i in s:\n",
    "    if i in s1:\n",
    "        continue\n",
    "    else:\n",
    "        print(i,end='')"
   ]
  }
 ],
 "metadata": {
  "kernelspec": {
   "display_name": "Python 3",
   "language": "python",
   "name": "python3"
  },
  "language_info": {
   "codemirror_mode": {
    "name": "ipython",
    "version": 3
   },
   "file_extension": ".py",
   "mimetype": "text/x-python",
   "name": "python",
   "nbconvert_exporter": "python",
   "pygments_lexer": "ipython3",
   "version": "3.8.8"
  }
 },
 "nbformat": 4,
 "nbformat_minor": 5
}
