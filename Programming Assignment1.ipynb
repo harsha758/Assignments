{
 "cells": [
  {
   "cell_type": "code",
   "execution_count": null,
   "id": "4ed3e4a2",
   "metadata": {},
   "outputs": [],
   "source": [
    "1.\tWrite a Python program to print \"Hello Python\"?\n",
    "\n",
    "print(\"Hello python\")"
   ]
  },
  {
   "cell_type": "code",
   "execution_count": null,
   "id": "27e8f339",
   "metadata": {},
   "outputs": [],
   "source": [
    "2.\tWrite a Python program to do arithmetical operations addition and division.?\n",
    "\n",
    "a = int(input(\"enter a first number\"))\n",
    "b = int(input(\"enter a second number\"))\n",
    "c = a+b\n",
    "d = a/b\n"
   ]
  },
  {
   "cell_type": "code",
   "execution_count": null,
   "id": "d15438cb",
   "metadata": {},
   "outputs": [],
   "source": [
    "3.\tWrite a Python program to find the area of a triangle?\n",
    "\n",
    "base = int(input(\"Enter the base of traingle\"))\n",
    "height = int(input(\"Enter the height of traingle\"))\n",
    "\n",
    "Area = 1/2*base*height\n",
    "\n",
    "print(\"Area of traingle is\", Area)"
   ]
  },
  {
   "cell_type": "code",
   "execution_count": null,
   "id": "2b5476da",
   "metadata": {},
   "outputs": [],
   "source": [
    "4.\tWrite a Python program to swap two variables?\n",
    "\n",
    "a =1\n",
    "b =2\n",
    "c = a\n",
    "a = b\n",
    "b = c"
   ]
  },
  {
   "cell_type": "code",
   "execution_count": null,
   "id": "80927b07",
   "metadata": {},
   "outputs": [],
   "source": [
    "5.\tWrite a Python program to generate a random number?\n",
    "\n",
    "import random\n",
    "\n",
    "random.randrange(0,1000)\n",
    "random.choice([1,2,3,4,5,6])\n"
   ]
  }
 ],
 "metadata": {
  "kernelspec": {
   "display_name": "Python 3",
   "language": "python",
   "name": "python3"
  },
  "language_info": {
   "codemirror_mode": {
    "name": "ipython",
    "version": 3
   },
   "file_extension": ".py",
   "mimetype": "text/x-python",
   "name": "python",
   "nbconvert_exporter": "python",
   "pygments_lexer": "ipython3",
   "version": "3.8.8"
  }
 },
 "nbformat": 4,
 "nbformat_minor": 5
}
