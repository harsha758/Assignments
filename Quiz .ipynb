{
 "cells": [
  {
   "cell_type": "code",
   "execution_count": 4,
   "id": "76551b09",
   "metadata": {},
   "outputs": [],
   "source": [
    "# you have to write a fun which will take string and return a len of it without using a inbuilt fun len\n",
    "\n",
    "def length(s):\n",
    "    count = 0\n",
    "    for i in s:\n",
    "        count = count+1\n",
    "    return count"
   ]
  },
  {
   "cell_type": "code",
   "execution_count": 19,
   "id": "c8b929ca",
   "metadata": {},
   "outputs": [],
   "source": [
    "# write a fun which will be able to print an index of all premitive element which you will pass \n",
    "\n",
    "l=[]\n",
    "def index(*args):\n",
    "    for i in range(len(*args)):\n",
    "        l.append(i)\n",
    "    return l\n",
    "        "
   ]
  },
  {
   "cell_type": "code",
   "execution_count": 40,
   "id": "5a29d649",
   "metadata": {},
   "outputs": [],
   "source": [
    "#Write a fun which will take input as a dict and give me out as a list of all the values even in case of 2 level nesting it should work\n",
    "\n",
    "def dictinary(*kwargs):\n",
    "    for i in d.values():\n",
    "        l=[]\n",
    "        if type(i) == dict:\n",
    "            for j in i.values():\n",
    "                if type(j) == dict:\n",
    "                    print(j.values())\n",
    "                else:\n",
    "                    print(j)\n",
    "        else:\n",
    "            print(i)"
   ]
  },
  {
   "cell_type": "code",
   "execution_count": 45,
   "id": "5aec5c6d",
   "metadata": {},
   "outputs": [],
   "source": [
    "# write a fun which will take another function as an input and return me an output\n",
    "\n",
    "def add(x,y):\n",
    "    return x+y\n",
    "def loop(*args):\n",
    "    return args\n",
    "loop(add(2,5))\n",
    "\n"
   ]
  },
  {
   "cell_type": "code",
   "execution_count": 60,
   "id": "997a2123",
   "metadata": {},
   "outputs": [],
   "source": [
    "#write a function which will take multiple list as a input and give me concatnation of all the element as and output \n",
    "\n",
    "def test(*args):\n",
    "    count = 0\n",
    "    for k in args:\n",
    "        if type(k) == list or tuple:\n",
    "            for j in k:\n",
    "                count = count+j\n",
    "        else:\n",
    "            count = count +k\n",
    "    return count\n",
    "test([1,2],[3,4,5],(6,7,8))"
   ]
  },
  {
   "cell_type": "code",
   "execution_count": 15,
   "id": "2eba67c6",
   "metadata": {},
   "outputs": [],
   "source": [
    "# write a function which will be able to take a list as an input return an index of each element like a inbuilt index function but even if we have repetative element it should return index\n",
    "def index(*args):\n",
    "    l=[]\n",
    "    for i in args:\n",
    "        if type(i) == list:\n",
    "            for j in range(len(i)):\n",
    "                l.append(j)\n",
    "    return l\n",
    "        #if type(i) == list:\n",
    "            #for j in i:\n",
    "                              "
   ]
  },
  {
   "cell_type": "code",
   "execution_count": 16,
   "id": "d40a9081",
   "metadata": {},
   "outputs": [
    {
     "data": {
      "text/plain": [
       "[0, 1, 2, 3, 4, 0, 1, 2]"
      ]
     },
     "execution_count": 16,
     "metadata": {},
     "output_type": "execute_result"
    }
   ],
   "source": [
    "index([1,2,3,4,5],4,5,6,\"sudh\",[6,7,8])"
   ]
  },
  {
   "cell_type": "code",
   "execution_count": null,
   "id": "0b3aec34",
   "metadata": {},
   "outputs": [],
   "source": []
  }
 ],
 "metadata": {
  "kernelspec": {
   "display_name": "Python 3",
   "language": "python",
   "name": "python3"
  },
  "language_info": {
   "codemirror_mode": {
    "name": "ipython",
    "version": 3
   },
   "file_extension": ".py",
   "mimetype": "text/x-python",
   "name": "python",
   "nbconvert_exporter": "python",
   "pygments_lexer": "ipython3",
   "version": "3.8.8"
  }
 },
 "nbformat": 4,
 "nbformat_minor": 5
}
